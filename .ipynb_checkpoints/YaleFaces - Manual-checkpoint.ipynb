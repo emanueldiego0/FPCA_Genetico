{
 "cells": [
  {
   "cell_type": "code",
   "execution_count": 1,
   "metadata": {},
   "outputs": [
    {
     "data": {
      "text/plain": [
       "'C:\\\\Users\\\\EMANUEL\\\\Desktop\\\\Autofaces Modificado\\\\FPCA_Genetico'"
      ]
     },
     "execution_count": 1,
     "metadata": {},
     "output_type": "execute_result"
    }
   ],
   "source": [
    "import os\n",
    "import glob\n",
    "import imageio\n",
    "import numpy as np\n",
    "import matplotlib.pyplot as plt\n",
    "import cv2\n",
    "import warnings\n",
    "import math\n",
    "from tqdm import tnrange, tqdm_notebook\n",
    "from time import sleep, time\n",
    "from sklearn.neighbors import KNeighborsClassifier\n",
    "from sklearn.model_selection import train_test_split\n",
    "\n",
    "#%matplotlib inline\n",
    "\n",
    "warnings.filterwarnings('ignore')\n",
    "HOLDOUT = 10\n",
    "n_experimento = 1\n",
    "experimento_folder = 'Experimento'+str(n_experimento)\n",
    "\n",
    "r = 0.01\n",
    "os.chdir(\"C:\\\\Users\\\\EMANUEL\\\\Desktop\\\\Autofaces Modificado\\\\FPCA_Genetico\")\n",
    "os.getcwd()"
   ]
  },
  {
   "cell_type": "code",
   "execution_count": 2,
   "metadata": {},
   "outputs": [],
   "source": [
    "def CarregarYaleFaces():\n",
    "    files = glob.glob(\"databases/yalefaces/*\")\n",
    "    images_yale = [np.array(imageio.mimread(file))[0] for file in files]\n",
    "    images_yale_resized = [cv2.resize(image, dsize=(28, 23), interpolation=cv2.INTER_CUBIC) for image in images_yale]\n",
    "    images_yale_resized = np.array(images_yale_resized)\n",
    "    images_yale_flatten = [image.flatten() for image in images_yale_resized]\n",
    "    images_yale_flatten = np.array(images_yale_flatten)\n",
    "    #print('#Amostras (n): '+str(images_yale_flatten.shape[0]))\n",
    "    #print('#Features (m): '+str(images_yale_flatten.shape[1]))\n",
    "    Y = [f.split('.')[0] for f in files]\n",
    "    return images_yale_flatten, Y"
   ]
  },
  {
   "cell_type": "code",
   "execution_count": 3,
   "metadata": {},
   "outputs": [
    {
     "name": "stdout",
     "output_type": "stream",
     "text": [
      "(165, 644)\n"
     ]
    }
   ],
   "source": [
    "print(CarregarYaleFaces()[0].shape)"
   ]
  },
  {
   "cell_type": "code",
   "execution_count": 4,
   "metadata": {},
   "outputs": [],
   "source": [
    "def F_Eigenfaces(X, W, k, r):\n",
    "    n = X.shape[0]\n",
    "    m = X.shape[1]\n",
    "    mean = np.mean(X, axis = 0)\n",
    "    D = np.zeros((n, n))\n",
    "    for j in range(m):\n",
    "        a = np.power(X[:,j], r) - np.power(X[:,j].mean(), r)\n",
    "        a = a.reshape(n,1)\n",
    "        b = a.T\n",
    "        D = D + (a * b)\n",
    "    val, vec = np.linalg.eig(D)\n",
    "    val = np.abs(val)\n",
    "    vec_c = 1. / np.power((n * val), 0.5)\n",
    "    vec_c = vec_c * (np.power(X, r) - np.power(mean,r)).T.dot(vec)\n",
    "    X_ = vec_c.T.dot((np.power(X,r) - np.power(mean,r)).T)\n",
    "    X__ = vec_c.T.dot((np.power(W,r) - np.power(mean,r)).T)\n",
    "    return X_.T[:,:k], X__.T[:,:k]"
   ]
  },
  {
   "cell_type": "code",
   "execution_count": 5,
   "metadata": {},
   "outputs": [],
   "source": [
    "def F_Eigenfaces2(X, W, k, R):\n",
    "    r = 0.01\n",
    "    n = X.shape[0]\n",
    "    m = X.shape[1]\n",
    "    mean = np.mean(X, axis = 0)\n",
    "    D = np.zeros((n, n))\n",
    "    for j in range(m):\n",
    "        a = np.power(X[:,j], r) - np.power(X[:,j].mean(), r)\n",
    "        a = a.reshape(n,1)\n",
    "        b = a.T\n",
    "        D = D + (a * b)\n",
    "    val, vec = np.linalg.eig(D)\n",
    "    val = np.abs(val)\n",
    "    vec_c = 1. / np.power((n * val), 0.5)\n",
    "    vec_c = vec_c * (np.power(X, R) - np.power(mean, R)).T.dot(vec)\n",
    "    X_ = vec_c.T.dot((np.power(X, R) - np.power(mean, R)).T)\n",
    "    X__ = vec_c.T.dot((np.power(W, R) - np.power(mean, R)).T)\n",
    "    return X_.T[:,:k], X__.T[:,:k]"
   ]
  },
  {
   "cell_type": "code",
   "execution_count": 6,
   "metadata": {},
   "outputs": [],
   "source": [
    "def generate_R2(r, LINHAS, COLUNAS):\n",
    "    #M_ = np.random.rand(4)\n",
    "    width = 23\n",
    "    height = 28\n",
    "    r = np.array(r).reshape((LINHAS,COLUNAS))\n",
    "    \n",
    "    h = height // LINHAS\n",
    "    w = width // COLUNAS\n",
    "    \n",
    "    h_ = height % LINHAS\n",
    "    w_ = width % COLUNAS\n",
    "    \n",
    "    R = []\n",
    "    for i in range(LINHAS):\n",
    "        R_ = []\n",
    "        for j in range(COLUNAS):\n",
    "            if(j != COLUNAS-1):\n",
    "                R_.extend(w * [r[i][j]])\n",
    "            else:\n",
    "                R_.extend((w + w_) * [r[i][j]])\n",
    "        if(i != LINHAS-1):\n",
    "            R_ *= h\n",
    "        else:\n",
    "            R_ *= (h + h_)\n",
    "        R.extend(R_)\n",
    "        \n",
    "    return R"
   ]
  },
  {
   "cell_type": "code",
   "execution_count": 47,
   "metadata": {},
   "outputs": [],
   "source": [
    "def AvaliarClassificadores2(X_train, X_test, y_train, y_test):\n",
    "    \n",
    "    clf_1nn = KNeighborsClassifier(n_neighbors=1).fit(X_train, y_train)\n",
    "    return clf_1nn.score(X_test, y_test) * 100"
   ]
  },
  {
   "cell_type": "code",
   "execution_count": 74,
   "metadata": {},
   "outputs": [],
   "source": [
    "def ExperimentoSimples(X, Y, i, K, filename):\n",
    "    #LINHA TEMPORARIA\n",
    "    #R = ler(filename)\n",
    "    R = filename\n",
    "    n_componentes = K\n",
    "    \n",
    "    #for i in tqdm(range(1, 16)):\n",
    "    s_feig = []\n",
    "    s_feig_star = []\n",
    "\n",
    "\n",
    "    for j in range(HOLDOUT):\n",
    "    #for j in tqdm_notebook(range(HOLDOUT), desc='Nº c:{0}'.format(n_componentes)):\n",
    "        X_train, X_test, y_train, y_test = train_test_split(X, Y, test_size=0.5, random_state= round(time()) + 15 * j)\n",
    "        #print(X_train)\n",
    "\n",
    "        #gerar os conjuntos de treino e teste transformados\n",
    "        #X_pca_train, X_pca_test  = PCA(X_train, X_test, n_componentes)\n",
    "        l = int(np.sqrt(len(R[0])))\n",
    "        X_feig_train, X_feig_test = F_Eigenfaces(X_train, X_test, n_componentes, r)\n",
    "        X_feig_star_train, X_feig_star_test = F_Eigenfaces2(X_train, \n",
    "                                                            X_test, \n",
    "                                                            n_componentes, \n",
    "                                                            generate_R2(R[i], l, l))\n",
    "\n",
    "        #acuracias\n",
    "        #s_pca.append(AvaliarClassificadores2(X_pca_train, X_pca_test, y_train, y_test))X_eige_test\n",
    "        s_feig.append(AvaliarClassificadores2(X_feig_train, X_feig_test, y_train, y_test))\n",
    "        s_feig_star.append(AvaliarClassificadores2(X_feig_star_train, X_feig_star_test, y_train, y_test))\n",
    "\n",
    "    print('Finalizado')\n",
    "    return np.array(s_feig).mean(), np.array(s_feig_star).mean()\n",
    "    "
   ]
  },
  {
   "cell_type": "code",
   "execution_count": 75,
   "metadata": {},
   "outputs": [],
   "source": [
    "def ImprimirResultados(acc, dataset_name):\n",
    "    \n",
    "    x = np.arange(0, 15)\n",
    "    x = x * 5\n",
    "    x[0] += 1\n",
    "    #print(len(x))\n",
    "    #plt.figure(figsize=(20,15))\n",
    "    plt.title(\"Dataset: \"+dataset_name+\" - Classificador: 1-NN\")\n",
    "    #plt.plot(x, acc_yale[:,0], color='black')\n",
    "    plt.plot(x, acc[:,0], color='red')\n",
    "    plt.plot(x, acc[:,1], color='blue')\n",
    "    plt.ylabel('Acuracia media')\n",
    "    plt.xlabel('Numero de componentes')\n",
    "    #plt.legend(labels=['PCA','FPCA','Eigenfaces','F Eigenfaces'])\n",
    "    plt.legend(labels=['F Eigenfaces','F Eigenfaces *'])\n",
    "    plt.grid()\n",
    "    #plt.show()"
   ]
  },
  {
   "cell_type": "code",
   "execution_count": 85,
   "metadata": {},
   "outputs": [],
   "source": [
    "components = [1,5,10,15,20,25,30,35,40,45,50,55,60,65,70]\n",
    "v2 = [[0.015, 0.086, 0.0655, 0.014, 0.01, 0.1, 0.025, 0.16, 0.018], #1\n",
    "      [0.029, 0.072, 0.043, 0.0699, 0.023, 0.024, 0.071, 0.024, 0.025], #5\n",
    "      [0.01, 0.09, 0.025, 0.068, 0.01, 0.05, 0.08, 0.1, 0.025], #10\n",
    "      [0.011, 0.032, 0.078, 0.028, 0.066, 0.015, 0.019, 0.024, 0.021], #15\n",
    "      [0.015, 0.016, 0.017, 0.018,0.018,0.0125,0.011,0.013,0.012], #20\n",
    "      [0.013, 0.065, 0.077, 0.068, 0.027, 0.029, 0.023, 0.055, 0.074], #25\n",
    "      [0.013, 0.065, 0.077, 0.068, 0.027, 0.029, 0.023, 0.055, 0.074], #30\n",
    "      [0.013, 0.065, 0.077, 0.068, 0.027, 0.029, 0.023, 0.055, 0.074], #35\n",
    "      [0.029, 0.072, 0.043, 0.0699, 0.023, 0.024, 0.071, 0.024, 0.025], #40\n",
    "      [0.029, 0.072, 0.043, 0.0699, 0.023, 0.024, 0.071, 0.024, 0.025], #45\n",
    "      [0.029, 0.072, 0.043, 0.0699, 0.023, 0.024, 0.071, 0.024, 0.025], #50\n",
    "      [0.056, 0.015, 0.032, 0.071, 0.051, 0.042, 0.087, 0.01, 0.0452], #60\n",
    "      [0.056, 0.015, 0.032, 0.071, 0.051, 0.042, 0.087, 0.01, 0.0452], #60\n",
    "      [0.032, 0.092, 0.042, 0.0332, 0.0754, 0.0641, 0.0235, 0.0112, 0.0511], #65\n",
    "      [0.0432, 0.08798, 0.0145, 0.0625, 0.0412, 0.066, 0.077, 0.025, 0.040]] #70"
   ]
  },
  {
   "cell_type": "code",
   "execution_count": 83,
   "metadata": {},
   "outputs": [
    {
     "name": "stdout",
     "output_type": "stream",
     "text": [
      "Finalizado\n",
      "Finalizado\n",
      "Finalizado\n",
      "Finalizado\n",
      "Finalizado\n",
      "Finalizado\n",
      "Finalizado\n",
      "Finalizado\n",
      "Finalizado\n",
      "Finalizado\n",
      "Finalizado\n",
      "Finalizado\n",
      "Finalizado\n",
      "Finalizado\n",
      "Finalizado\n"
     ]
    }
   ],
   "source": [
    "acc_yale = [list([0., 0.]) for i in range(15)]\n",
    "for i,c in enumerate(components):\n",
    "    x1, x2 = ExperimentoSimples(X, Y, i, c, v2)\n",
    "    acc_yale[i] = [x1, x2]\n",
    "acc_yale = np.array(acc_yale)"
   ]
  },
  {
   "cell_type": "code",
   "execution_count": 86,
   "metadata": {},
   "outputs": [
    {
     "name": "stdout",
     "output_type": "stream",
     "text": [
      "Finalizado\n"
     ]
    }
   ],
   "source": [
    "K = 5\n",
    "x1, x2 = ExperimentoSimples(X, Y, K, components[5], v2)\n",
    "acc_yale[K] = [x1, x2]\n",
    "acc_yale = np.array(acc_yale)"
   ]
  },
  {
   "cell_type": "code",
   "execution_count": 87,
   "metadata": {},
   "outputs": [
    {
     "data": {
      "image/png": "[encoded data removed]",
      "text/plain": [
       "<Figure size 432x288 with 1 Axes>"
      ]
     },
     "metadata": {},
     "output_type": "display_data"
    }
   ],
   "source": [
    "ImprimirResultados(acc_yale, \"Yale Faces\")"
   ]
  },
  {
   "cell_type": "code",
   "execution_count": null,
   "metadata": {},
   "outputs": [],
   "source": []
  }
 ],
 "metadata": {
  "kernelspec": {
   "display_name": "Python 3",
   "language": "python",
   "name": "python3"
  },
  "language_info": {
   "codemirror_mode": {
    "name": "ipython",
    "version": 3
   },
   "file_extension": ".py",
   "mimetype": "text/x-python",
   "name": "python",
   "nbconvert_exporter": "python",
   "pygments_lexer": "ipython3",
   "version": "3.6.5"
  }
 },
 "nbformat": 4,
 "nbformat_minor": 2
}
