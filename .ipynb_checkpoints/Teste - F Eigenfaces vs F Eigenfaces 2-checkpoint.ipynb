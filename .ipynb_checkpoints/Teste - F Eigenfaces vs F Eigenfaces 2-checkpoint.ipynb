{
 "cells": [
  {
   "cell_type": "code",
   "execution_count": 19,
   "metadata": {},
   "outputs": [
    {
     "data": {
      "text/plain": [
       "'C:\\\\Users\\\\ADM\\\\Desktop\\\\PIC\\\\FPCA_Genetico'"
      ]
     },
     "execution_count": 19,
     "metadata": {},
     "output_type": "execute_result"
    }
   ],
   "source": [
    "import os\n",
    "import glob\n",
    "import imageio\n",
    "import numpy as np\n",
    "import matplotlib.pyplot as plt\n",
    "import cv2\n",
    "import warnings\n",
    "from tqdm import tnrange, tqdm_notebook\n",
    "from time import sleep, time\n",
    "from sklearn.neighbors import KNeighborsClassifier\n",
    "from sklearn.model_selection import train_test_split\n",
    "\n",
    "%matplotlib inline\n",
    "\n",
    "warnings.filterwarnings('ignore')\n",
    "HOLDOUT = 10\n",
    "r = 0.01\n",
    "os.chdir(\"C:\\\\Users\\\\ADM\\\\Desktop\\\\PIC\\\\FPCA_Genetico\\\\\")\n",
    "os.getcwd()"
   ]
  },
  {
   "cell_type": "code",
   "execution_count": 20,
   "metadata": {},
   "outputs": [],
   "source": [
    "def CarregarYaleFaces():\n",
    "    files = glob.glob(\"databases/yalefaces/*\")\n",
    "    images_yale = [np.array(imageio.mimread(file))[0] for file in files]\n",
    "    images_yale_resized = [cv2.resize(image, dsize=(28, 23), interpolation=cv2.INTER_CUBIC) for image in images_yale]\n",
    "    images_yale_resized = np.array(images_yale_resized)\n",
    "    images_yale_flatten = [image.flatten() for image in images_yale_resized]\n",
    "    images_yale_flatten = np.array(images_yale_flatten)\n",
    "    #print('#Amostras (n): '+str(images_yale_flatten.shape[0]))\n",
    "    #print('#Features (m): '+str(images_yale_flatten.shape[1]))\n",
    "    Y = [f.split('.')[0] for f in files]\n",
    "    return images_yale_flatten, Y"
   ]
  },
  {
   "cell_type": "code",
   "execution_count": 21,
   "metadata": {},
   "outputs": [],
   "source": [
    "def CarregarAtt():\n",
    "    folders = glob.glob(\"databases/att_faces/*\")\n",
    "    images_att = []\n",
    "    Y = []\n",
    "    \n",
    "    for f in folders:\n",
    "        files = glob.glob(f+\"/*\")\n",
    "        #images = [np.array(imageio.mimread(file))[0] for file in files]\n",
    "        images = [cv2.imread(file,-1)[0] for file in files]\n",
    "        images_resized = [cv2.resize(image, dsize=(28, 23), interpolation=cv2.INTER_CUBIC) for image in images]\n",
    "        #mages_resized = np.array(images_resized)\n",
    "        images_flatten = [image.flatten() for image in images_resized]\n",
    "        #mages_flatten = np.array(images_flatten)\n",
    "        images_att.extend(images_flatten)\n",
    "        Y.extend([f] * 10)\n",
    "    return np.array(images_att), Y\n",
    "    #return folders"
   ]
  },
  {
   "cell_type": "code",
   "execution_count": 22,
   "metadata": {},
   "outputs": [],
   "source": [
    "def CarregarSheffield():\n",
    "    folders = glob.glob(\"databases/sheffield/cropped/*\")\n",
    "    images_sheffield = []\n",
    "    Y = []\n",
    "    \n",
    "    for f in folders:\n",
    "        files = glob.glob(f+\"/face/*\")\n",
    "        images = [cv2.imread(file,-1)[0] for file in files]\n",
    "        images_resized = [cv2.resize(image, dsize=(28, 23), interpolation=cv2.INTER_CUBIC) for image in images]\n",
    "        images_flatten = [image.flatten() for image in images_resized]\n",
    "        images_sheffield.extend(images_flatten)\n",
    "        Y.extend([f] * len(files))\n",
    "    return np.array(images_sheffield), Y"
   ]
  },
  {
   "cell_type": "code",
   "execution_count": 23,
   "metadata": {},
   "outputs": [
    {
     "name": "stdout",
     "output_type": "stream",
     "text": [
      "(165, 644)\n",
      "(400, 644)\n",
      "(575, 644)\n"
     ]
    }
   ],
   "source": [
    "print(CarregarYaleFaces()[0].shape)\n",
    "print(CarregarAtt()[0].shape)\n",
    "print(CarregarSheffield()[0].shape)"
   ]
  },
  {
   "cell_type": "code",
   "execution_count": 36,
   "metadata": {},
   "outputs": [],
   "source": [
    "def F_Eigenfaces(X, W, k, r):\n",
    "    n = X.shape[0]\n",
    "    m = X.shape[1]\n",
    "    mean = np.mean(X, axis = 0)\n",
    "    D = np.zeros((n, n))\n",
    "    for j in range(m):\n",
    "        a = np.power(X[:,j], r) - np.power(X[:,j].mean(), r)\n",
    "        a = a.reshape(n,1)\n",
    "        b = a.T\n",
    "        D = D + (a * b)\n",
    "    val, vec = np.linalg.eig(D)\n",
    "    val = np.abs(val)\n",
    "    vec_c = 1. / np.power((n * val), 0.5)\n",
    "    vec_c = vec_c * (np.power(X, r) - np.power(mean,r)).T.dot(vec)\n",
    "    X_ = vec_c.T.dot((np.power(X,r) - np.power(mean,r)).T)\n",
    "    X__ = vec_c.T.dot((np.power(W,r) - np.power(mean,r)).T)\n",
    "    return X_.T[:,:k], X__.T[:,:k]"
   ]
  },
  {
   "cell_type": "code",
   "execution_count": 37,
   "metadata": {},
   "outputs": [],
   "source": [
    "def F_Eigenfaces2(X, W, k, R):\n",
    "    r = 0.01\n",
    "    n = X.shape[0]\n",
    "    m = X.shape[1]\n",
    "    mean = np.mean(X, axis = 0)\n",
    "    D = np.zeros((n, n))\n",
    "    for j in range(m):\n",
    "        a = np.power(X[:,j], r) - np.power(X[:,j].mean(), r)\n",
    "        a = a.reshape(n,1)\n",
    "        b = a.T\n",
    "        D = D + (a * b)\n",
    "    val, vec = np.linalg.eig(D)\n",
    "    val = np.abs(val)\n",
    "    vec_c = 1. / np.power((n * val), 0.5)\n",
    "    vec_c = vec_c * (np.power(X, R) - np.power(mean, R)).T.dot(vec)\n",
    "    X_ = vec_c.T.dot((np.power(X, R) - np.power(mean, R)).T)\n",
    "    X__ = vec_c.T.dot((np.power(W, R) - np.power(mean, R)).T)\n",
    "    return X_.T[:,:k], X__.T[:,:k]"
   ]
  },
  {
   "cell_type": "code",
   "execution_count": null,
   "metadata": {},
   "outputs": [],
   "source": [
    "def generate_R(r):\n",
    "    width = 23\n",
    "    height = 28\n",
    "    #M_ = np.random.rand(4)\n",
    "    \n",
    "    h = height // 2\n",
    "    w = width / 2\n",
    "    \n",
    "    R1 = h * (math.ceil(w) * r[0:1] + math.floor(w) * r[1:2])\n",
    "    R2 = h * (math.ceil(w) * r[2:3] + math.floor(w) * r[3:4])\n",
    "    R = R1 + R2\n",
    "    \n",
    "    \n",
    "    return R"
   ]
  },
  {
   "cell_type": "code",
   "execution_count": 38,
   "metadata": {},
   "outputs": [],
   "source": [
    "def AvaliarClassificadores2(X_train, X_test, y_train, y_test):\n",
    "    \n",
    "    clf_1nn = KNeighborsClassifier(n_neighbors=1).fit(X_train, y_train)\n",
    "    return clf_1nn.score(X_test, y_test) * 100"
   ]
  },
  {
   "cell_type": "code",
   "execution_count": 39,
   "metadata": {},
   "outputs": [],
   "source": [
    "def ler(filename):\n",
    "    vetores = []\n",
    "    f = open(filename,'r')\n",
    "    strings = f.readlines()\n",
    "    \n",
    "    for i in strings:\n",
    "        vetor_str = i.split(' ')\n",
    "        vetor_str.pop(-1)\n",
    "        vetor_flt = []\n",
    "        for v in vetor_str:\n",
    "            vetor_flt.append(float(v))\n",
    "        vetores.append(vetor_flt)\n",
    "        \n",
    "    return vetores"
   ]
  },
  {
   "cell_type": "code",
   "execution_count": 53,
   "metadata": {},
   "outputs": [],
   "source": [
    "def Experimento(X, Y, filename):\n",
    "    acc = []\n",
    "    std = []\n",
    "    \n",
    "    R = ler(filename)\n",
    "    \n",
    "    n_componentes = 1\n",
    "    \n",
    "    #for i in tqdm(range(1, 16)):\n",
    "    for i in tnrange(15, desc='Progresso '):\n",
    "        \n",
    "        #print('N Components : %s' %(str(n_componentes)))\n",
    "            \n",
    "        #print('# Progresso :'+str(n_componentes)+'/70')\n",
    "        \n",
    "        #s_pca = []\n",
    "        \n",
    "        s_feig = []\n",
    "        s_feig_star = []\n",
    "        \n",
    "        \n",
    "        #for j in range(HOLDOUT):\n",
    "        for j in tqdm_notebook(range(HOLDOUT), desc='Nº c:{0}'.format(n_componentes)):\n",
    "            X_train, X_test, y_train, y_test = train_test_split(X, Y, test_size=0.5, random_state= round(time()) + 15 * j)\n",
    "            #print(X_train)\n",
    "\n",
    "            #gerar os conjuntos de treino e teste transformados\n",
    "            #X_pca_train, X_pca_test  = PCA(X_train, X_test, n_componentes)\n",
    "            X_feig_train, X_feig_test = F_Eigenfaces(X_train, X_test, n_componentes, r)\n",
    "            X_feig_star_train, X_feig_star_test = F_Eigenfaces2(X_train, X_test, n_componentes, generate_R(R[i]))\n",
    "            \n",
    "            #acuracias\n",
    "            #s_pca.append(AvaliarClassificadores2(X_pca_train, X_pca_test, y_train, y_test))X_eige_test\n",
    "            s_feig.append(AvaliarClassificadores2(X_feig_train, X_feig_test, y_train, y_test))\n",
    "            s_feig_star.append(AvaliarClassificadores2(X_feig_star_train, X_feig_star_test, y_train, y_test))\n",
    "\n",
    "        #print(s_fpca)\n",
    "        acc.append([#np.array(s_pca).mean(),\n",
    "                    np.array(s_feig).mean(),\n",
    "                    np.array(s_feig_star).mean()])\n",
    "        \n",
    "        std.append([#np.std(s_pca),\n",
    "                    np.std(s_feig) / 100,\n",
    "                    np.std(s_feig_star) / 100])\n",
    "        \n",
    "        if(n_componentes == 1):\n",
    "            n_componentes += 4\n",
    "        else:\n",
    "            n_componentes += 5\n",
    "            \n",
    "            sleep(0.01)\n",
    "        \n",
    "    return np.array(acc), np.array(std)"
   ]
  },
  {
   "cell_type": "code",
   "execution_count": 54,
   "metadata": {},
   "outputs": [],
   "source": [
    "def ImprimirResultados(acc, dataset_name):\n",
    "    \n",
    "    x = np.arange(0, 15)\n",
    "    x = x * 5\n",
    "    x[0] += 1\n",
    "    print(len(x))\n",
    "    #plt.figure(figsize=(20,15))\n",
    "    plt.title(\"Dataset: \"+dataset_name+\" - Classifier: 1-NN\")\n",
    "    #plt.plot(x, acc_yale[:,0], color='black')\n",
    "    plt.plot(x, acc[:,0], color='red')\n",
    "    plt.plot(x, acc[:,1], color='blue')\n",
    "    plt.ylabel('Acuracia media')\n",
    "    plt.xlabel('Numero de componentes')\n",
    "    #plt.legend(labels=['PCA','FPCA','Eigenfaces','F Eigenfaces'])\n",
    "    plt.legend(labels=['F Eigenfaces','F Eigenfaces *'])\n",
    "    plt.grid()\n",
    "    plt.show()"
   ]
  },
  {
   "cell_type": "code",
   "execution_count": 69,
   "metadata": {},
   "outputs": [],
   "source": [
    "def ImprimirTabela(acc, std):\n",
    "    i = 1\n",
    "    for a, s in zip(acc, std):\n",
    "        print(str(i)+\"\\t{0:.3f}\".format(a[0])+\" +-\"+\"{0:.3f}\".format(s[0])+\n",
    "              \"\\t\\t\"+\"{0:.3f}\".format(a[1])+\" +-\"+\"{0:.3f}\".format(s[1]))\n",
    "        if(i == 1):\n",
    "            i += 4\n",
    "        else:\n",
    "            i += 5"
   ]
  },
  {
   "cell_type": "code",
   "execution_count": 55,
   "metadata": {},
   "outputs": [
    {
     "name": "stdout",
     "output_type": "stream",
     "text": [
      "---Yale---\n"
     ]
    },
    {
     "data": {
      "application/vnd.jupyter.widget-view+json": {
       "model_id": "1cd2b22b79fa47ccb87bdae1b2cff949",
       "version_major": 2,
       "version_minor": 0
      },
      "text/html": [
       "<p>Failed to display Jupyter Widget of type <code>HBox</code>.</p>\n",
       "<p>\n",
       "  If you're reading this message in the Jupyter Notebook or JupyterLab Notebook, it may mean\n",
       "  that the widgets JavaScript is still loading. If this message persists, it\n",
       "  likely means that the widgets JavaScript library is either not installed or\n",
       "  not enabled. See the <a href=\"https://ipywidgets.readthedocs.io/en/stable/user_install.html\">Jupyter\n",
       "  Widgets Documentation</a> for setup instructions.\n",
       "</p>\n",
       "<p>\n",
       "  If you're reading this message in another frontend (for example, a static\n",
       "  rendering on GitHub or <a href=\"https://nbviewer.jupyter.org/\">NBViewer</a>),\n",
       "  it may mean that your frontend doesn't currently support widgets.\n",
       "</p>\n"
      ],
      "text/plain": [
       "HBox(children=(IntProgress(value=0, description='Progresso ', max=15), HTML(value='')))"
      ]
     },
     "metadata": {},
     "output_type": "display_data"
    },
    {
     "data": {
      "application/vnd.jupyter.widget-view+json": {
       "model_id": "43e5d8c5ccbd474298d55f3d458a432a",
       "version_major": 2,
       "version_minor": 0
      },
      "text/html": [
       "<p>Failed to display Jupyter Widget of type <code>HBox</code>.</p>\n",
       "<p>\n",
       "  If you're reading this message in the Jupyter Notebook or JupyterLab Notebook, it may mean\n",
       "  that the widgets JavaScript is still loading. If this message persists, it\n",
       "  likely means that the widgets JavaScript library is either not installed or\n",
       "  not enabled. See the <a href=\"https://ipywidgets.readthedocs.io/en/stable/user_install.html\">Jupyter\n",
       "  Widgets Documentation</a> for setup instructions.\n",
       "</p>\n",
       "<p>\n",
       "  If you're reading this message in another frontend (for example, a static\n",
       "  rendering on GitHub or <a href=\"https://nbviewer.jupyter.org/\">NBViewer</a>),\n",
       "  it may mean that your frontend doesn't currently support widgets.\n",
       "</p>\n"
      ],
      "text/plain": [
       "HBox(children=(IntProgress(value=0, description='Nº c:1', max=10), HTML(value='')))"
      ]
     },
     "metadata": {},
     "output_type": "display_data"
    },
    {
     "data": {
      "application/vnd.jupyter.widget-view+json": {
       "model_id": "7b255bdd55974c03a7c1691b355e1bbf",
       "version_major": 2,
       "version_minor": 0
      },
      "text/html": [
       "<p>Failed to display Jupyter Widget of type <code>HBox</code>.</p>\n",
       "<p>\n",
       "  If you're reading this message in the Jupyter Notebook or JupyterLab Notebook, it may mean\n",
       "  that the widgets JavaScript is still loading. If this message persists, it\n",
       "  likely means that the widgets JavaScript library is either not installed or\n",
       "  not enabled. See the <a href=\"https://ipywidgets.readthedocs.io/en/stable/user_install.html\">Jupyter\n",
       "  Widgets Documentation</a> for setup instructions.\n",
       "</p>\n",
       "<p>\n",
       "  If you're reading this message in another frontend (for example, a static\n",
       "  rendering on GitHub or <a href=\"https://nbviewer.jupyter.org/\">NBViewer</a>),\n",
       "  it may mean that your frontend doesn't currently support widgets.\n",
       "</p>\n"
      ],
      "text/plain": [
       "HBox(children=(IntProgress(value=0, description='Nº c:5', max=10), HTML(value='')))"
      ]
     },
     "metadata": {},
     "output_type": "display_data"
    },
    {
     "data": {
      "application/vnd.jupyter.widget-view+json": {
       "model_id": "ef20483eee7a441c8bd88dc07efb21b1",
       "version_major": 2,
       "version_minor": 0
      },
      "text/html": [
       "<p>Failed to display Jupyter Widget of type <code>HBox</code>.</p>\n",
       "<p>\n",
       "  If you're reading this message in the Jupyter Notebook or JupyterLab Notebook, it may mean\n",
       "  that the widgets JavaScript is still loading. If this message persists, it\n",
       "  likely means that the widgets JavaScript library is either not installed or\n",
       "  not enabled. See the <a href=\"https://ipywidgets.readthedocs.io/en/stable/user_install.html\">Jupyter\n",
       "  Widgets Documentation</a> for setup instructions.\n",
       "</p>\n",
       "<p>\n",
       "  If you're reading this message in another frontend (for example, a static\n",
       "  rendering on GitHub or <a href=\"https://nbviewer.jupyter.org/\">NBViewer</a>),\n",
       "  it may mean that your frontend doesn't currently support widgets.\n",
       "</p>\n"
      ],
      "text/plain": [
       "HBox(children=(IntProgress(value=0, description='Nº c:10', max=10), HTML(value='')))"
      ]
     },
     "metadata": {},
     "output_type": "display_data"
    },
    {
     "data": {
      "application/vnd.jupyter.widget-view+json": {
       "model_id": "7fe5e536b9444d23aee748ee0934010b",
       "version_major": 2,
       "version_minor": 0
      },
      "text/html": [
       "<p>Failed to display Jupyter Widget of type <code>HBox</code>.</p>\n",
       "<p>\n",
       "  If you're reading this message in the Jupyter Notebook or JupyterLab Notebook, it may mean\n",
       "  that the widgets JavaScript is still loading. If this message persists, it\n",
       "  likely means that the widgets JavaScript library is either not installed or\n",
       "  not enabled. See the <a href=\"https://ipywidgets.readthedocs.io/en/stable/user_install.html\">Jupyter\n",
       "  Widgets Documentation</a> for setup instructions.\n",
       "</p>\n",
       "<p>\n",
       "  If you're reading this message in another frontend (for example, a static\n",
       "  rendering on GitHub or <a href=\"https://nbviewer.jupyter.org/\">NBViewer</a>),\n",
       "  it may mean that your frontend doesn't currently support widgets.\n",
       "</p>\n"
      ],
      "text/plain": [
       "HBox(children=(IntProgress(value=0, description='Nº c:15', max=10), HTML(value='')))"
      ]
     },
     "metadata": {},
     "output_type": "display_data"
    },
    {
     "data": {
      "application/vnd.jupyter.widget-view+json": {
       "model_id": "a29d7d5624774275a9bed5ecb89551a6",
       "version_major": 2,
       "version_minor": 0
      },
      "text/html": [
       "<p>Failed to display Jupyter Widget of type <code>HBox</code>.</p>\n",
       "<p>\n",
       "  If you're reading this message in the Jupyter Notebook or JupyterLab Notebook, it may mean\n",
       "  that the widgets JavaScript is still loading. If this message persists, it\n",
       "  likely means that the widgets JavaScript library is either not installed or\n",
       "  not enabled. See the <a href=\"https://ipywidgets.readthedocs.io/en/stable/user_install.html\">Jupyter\n",
       "  Widgets Documentation</a> for setup instructions.\n",
       "</p>\n",
       "<p>\n",
       "  If you're reading this message in another frontend (for example, a static\n",
       "  rendering on GitHub or <a href=\"https://nbviewer.jupyter.org/\">NBViewer</a>),\n",
       "  it may mean that your frontend doesn't currently support widgets.\n",
       "</p>\n"
      ],
      "text/plain": [
       "HBox(children=(IntProgress(value=0, description='Nº c:20', max=10), HTML(value='')))"
      ]
     },
     "metadata": {},
     "output_type": "display_data"
    },
    {
     "data": {
      "application/vnd.jupyter.widget-view+json": {
       "model_id": "ba7ded1b1cc04af68af0dd8ebf80b6ba",
       "version_major": 2,
       "version_minor": 0
      },
      "text/html": [
       "<p>Failed to display Jupyter Widget of type <code>HBox</code>.</p>\n",
       "<p>\n",
       "  If you're reading this message in the Jupyter Notebook or JupyterLab Notebook, it may mean\n",
       "  that the widgets JavaScript is still loading. If this message persists, it\n",
       "  likely means that the widgets JavaScript library is either not installed or\n",
       "  not enabled. See the <a href=\"https://ipywidgets.readthedocs.io/en/stable/user_install.html\">Jupyter\n",
       "  Widgets Documentation</a> for setup instructions.\n",
       "</p>\n",
       "<p>\n",
       "  If you're reading this message in another frontend (for example, a static\n",
       "  rendering on GitHub or <a href=\"https://nbviewer.jupyter.org/\">NBViewer</a>),\n",
       "  it may mean that your frontend doesn't currently support widgets.\n",
       "</p>\n"
      ],
      "text/plain": [
       "HBox(children=(IntProgress(value=0, description='Nº c:25', max=10), HTML(value='')))"
      ]
     },
     "metadata": {},
     "output_type": "display_data"
    },
    {
     "data": {
      "application/vnd.jupyter.widget-view+json": {
       "model_id": "db562cd8772748c88702757ad75785a3",
       "version_major": 2,
       "version_minor": 0
      },
      "text/html": [
       "<p>Failed to display Jupyter Widget of type <code>HBox</code>.</p>\n",
       "<p>\n",
       "  If you're reading this message in the Jupyter Notebook or JupyterLab Notebook, it may mean\n",
       "  that the widgets JavaScript is still loading. If this message persists, it\n",
       "  likely means that the widgets JavaScript library is either not installed or\n",
       "  not enabled. See the <a href=\"https://ipywidgets.readthedocs.io/en/stable/user_install.html\">Jupyter\n",
       "  Widgets Documentation</a> for setup instructions.\n",
       "</p>\n",
       "<p>\n",
       "  If you're reading this message in another frontend (for example, a static\n",
       "  rendering on GitHub or <a href=\"https://nbviewer.jupyter.org/\">NBViewer</a>),\n",
       "  it may mean that your frontend doesn't currently support widgets.\n",
       "</p>\n"
      ],
      "text/plain": [
       "HBox(children=(IntProgress(value=0, description='Nº c:30', max=10), HTML(value='')))"
      ]
     },
     "metadata": {},
     "output_type": "display_data"
    },
    {
     "data": {
      "application/vnd.jupyter.widget-view+json": {
       "model_id": "24c249c7942c490cb0ced34569e06d07",
       "version_major": 2,
       "version_minor": 0
      },
      "text/html": [
       "<p>Failed to display Jupyter Widget of type <code>HBox</code>.</p>\n",
       "<p>\n",
       "  If you're reading this message in the Jupyter Notebook or JupyterLab Notebook, it may mean\n",
       "  that the widgets JavaScript is still loading. If this message persists, it\n",
       "  likely means that the widgets JavaScript library is either not installed or\n",
       "  not enabled. See the <a href=\"https://ipywidgets.readthedocs.io/en/stable/user_install.html\">Jupyter\n",
       "  Widgets Documentation</a> for setup instructions.\n",
       "</p>\n",
       "<p>\n",
       "  If you're reading this message in another frontend (for example, a static\n",
       "  rendering on GitHub or <a href=\"https://nbviewer.jupyter.org/\">NBViewer</a>),\n",
       "  it may mean that your frontend doesn't currently support widgets.\n",
       "</p>\n"
      ],
      "text/plain": [
       "HBox(children=(IntProgress(value=0, description='Nº c:35', max=10), HTML(value='')))"
      ]
     },
     "metadata": {},
     "output_type": "display_data"
    },
    {
     "data": {
      "application/vnd.jupyter.widget-view+json": {
       "model_id": "9410dec37ca44783bfef490034130014",
       "version_major": 2,
       "version_minor": 0
      },
      "text/html": [
       "<p>Failed to display Jupyter Widget of type <code>HBox</code>.</p>\n",
       "<p>\n",
       "  If you're reading this message in the Jupyter Notebook or JupyterLab Notebook, it may mean\n",
       "  that the widgets JavaScript is still loading. If this message persists, it\n",
       "  likely means that the widgets JavaScript library is either not installed or\n",
       "  not enabled. See the <a href=\"https://ipywidgets.readthedocs.io/en/stable/user_install.html\">Jupyter\n",
       "  Widgets Documentation</a> for setup instructions.\n",
       "</p>\n",
       "<p>\n",
       "  If you're reading this message in another frontend (for example, a static\n",
       "  rendering on GitHub or <a href=\"https://nbviewer.jupyter.org/\">NBViewer</a>),\n",
       "  it may mean that your frontend doesn't currently support widgets.\n",
       "</p>\n"
      ],
      "text/plain": [
       "HBox(children=(IntProgress(value=0, description='Nº c:40', max=10), HTML(value='')))"
      ]
     },
     "metadata": {},
     "output_type": "display_data"
    },
    {
     "data": {
      "application/vnd.jupyter.widget-view+json": {
       "model_id": "c7e2f538f16845e49de558f372abe1f7",
       "version_major": 2,
       "version_minor": 0
      },
      "text/html": [
       "<p>Failed to display Jupyter Widget of type <code>HBox</code>.</p>\n",
       "<p>\n",
       "  If you're reading this message in the Jupyter Notebook or JupyterLab Notebook, it may mean\n",
       "  that the widgets JavaScript is still loading. If this message persists, it\n",
       "  likely means that the widgets JavaScript library is either not installed or\n",
       "  not enabled. See the <a href=\"https://ipywidgets.readthedocs.io/en/stable/user_install.html\">Jupyter\n",
       "  Widgets Documentation</a> for setup instructions.\n",
       "</p>\n",
       "<p>\n",
       "  If you're reading this message in another frontend (for example, a static\n",
       "  rendering on GitHub or <a href=\"https://nbviewer.jupyter.org/\">NBViewer</a>),\n",
       "  it may mean that your frontend doesn't currently support widgets.\n",
       "</p>\n"
      ],
      "text/plain": [
       "HBox(children=(IntProgress(value=0, description='Nº c:45', max=10), HTML(value='')))"
      ]
     },
     "metadata": {},
     "output_type": "display_data"
    },
    {
     "data": {
      "application/vnd.jupyter.widget-view+json": {
       "model_id": "4a134a2f4c0040bcbefb3d12372ccb0f",
       "version_major": 2,
       "version_minor": 0
      },
      "text/html": [
       "<p>Failed to display Jupyter Widget of type <code>HBox</code>.</p>\n",
       "<p>\n",
       "  If you're reading this message in the Jupyter Notebook or JupyterLab Notebook, it may mean\n",
       "  that the widgets JavaScript is still loading. If this message persists, it\n",
       "  likely means that the widgets JavaScript library is either not installed or\n",
       "  not enabled. See the <a href=\"https://ipywidgets.readthedocs.io/en/stable/user_install.html\">Jupyter\n",
       "  Widgets Documentation</a> for setup instructions.\n",
       "</p>\n",
       "<p>\n",
       "  If you're reading this message in another frontend (for example, a static\n",
       "  rendering on GitHub or <a href=\"https://nbviewer.jupyter.org/\">NBViewer</a>),\n",
       "  it may mean that your frontend doesn't currently support widgets.\n",
       "</p>\n"
      ],
      "text/plain": [
       "HBox(children=(IntProgress(value=0, description='Nº c:50', max=10), HTML(value='')))"
      ]
     },
     "metadata": {},
     "output_type": "display_data"
    },
    {
     "data": {
      "application/vnd.jupyter.widget-view+json": {
       "model_id": "5bedd8d0392b447486dd08a2f2fb4fdc",
       "version_major": 2,
       "version_minor": 0
      },
      "text/html": [
       "<p>Failed to display Jupyter Widget of type <code>HBox</code>.</p>\n",
       "<p>\n",
       "  If you're reading this message in the Jupyter Notebook or JupyterLab Notebook, it may mean\n",
       "  that the widgets JavaScript is still loading. If this message persists, it\n",
       "  likely means that the widgets JavaScript library is either not installed or\n",
       "  not enabled. See the <a href=\"https://ipywidgets.readthedocs.io/en/stable/user_install.html\">Jupyter\n",
       "  Widgets Documentation</a> for setup instructions.\n",
       "</p>\n",
       "<p>\n",
       "  If you're reading this message in another frontend (for example, a static\n",
       "  rendering on GitHub or <a href=\"https://nbviewer.jupyter.org/\">NBViewer</a>),\n",
       "  it may mean that your frontend doesn't currently support widgets.\n",
       "</p>\n"
      ],
      "text/plain": [
       "HBox(children=(IntProgress(value=0, description='Nº c:55', max=10), HTML(value='')))"
      ]
     },
     "metadata": {},
     "output_type": "display_data"
    },
    {
     "data": {
      "application/vnd.jupyter.widget-view+json": {
       "model_id": "3e81341067b540b78f0b856f151c8653",
       "version_major": 2,
       "version_minor": 0
      },
      "text/html": [
       "<p>Failed to display Jupyter Widget of type <code>HBox</code>.</p>\n",
       "<p>\n",
       "  If you're reading this message in the Jupyter Notebook or JupyterLab Notebook, it may mean\n",
       "  that the widgets JavaScript is still loading. If this message persists, it\n",
       "  likely means that the widgets JavaScript library is either not installed or\n",
       "  not enabled. See the <a href=\"https://ipywidgets.readthedocs.io/en/stable/user_install.html\">Jupyter\n",
       "  Widgets Documentation</a> for setup instructions.\n",
       "</p>\n",
       "<p>\n",
       "  If you're reading this message in another frontend (for example, a static\n",
       "  rendering on GitHub or <a href=\"https://nbviewer.jupyter.org/\">NBViewer</a>),\n",
       "  it may mean that your frontend doesn't currently support widgets.\n",
       "</p>\n"
      ],
      "text/plain": [
       "HBox(children=(IntProgress(value=0, description='Nº c:60', max=10), HTML(value='')))"
      ]
     },
     "metadata": {},
     "output_type": "display_data"
    },
    {
     "data": {
      "application/vnd.jupyter.widget-view+json": {
       "model_id": "41e9148f539e4a4e9ccc64bc72b45aab",
       "version_major": 2,
       "version_minor": 0
      },
      "text/html": [
       "<p>Failed to display Jupyter Widget of type <code>HBox</code>.</p>\n",
       "<p>\n",
       "  If you're reading this message in the Jupyter Notebook or JupyterLab Notebook, it may mean\n",
       "  that the widgets JavaScript is still loading. If this message persists, it\n",
       "  likely means that the widgets JavaScript library is either not installed or\n",
       "  not enabled. See the <a href=\"https://ipywidgets.readthedocs.io/en/stable/user_install.html\">Jupyter\n",
       "  Widgets Documentation</a> for setup instructions.\n",
       "</p>\n",
       "<p>\n",
       "  If you're reading this message in another frontend (for example, a static\n",
       "  rendering on GitHub or <a href=\"https://nbviewer.jupyter.org/\">NBViewer</a>),\n",
       "  it may mean that your frontend doesn't currently support widgets.\n",
       "</p>\n"
      ],
      "text/plain": [
       "HBox(children=(IntProgress(value=0, description='Nº c:65', max=10), HTML(value='')))"
      ]
     },
     "metadata": {},
     "output_type": "display_data"
    },
    {
     "data": {
      "application/vnd.jupyter.widget-view+json": {
       "model_id": "291ac59783484e10a50ddf97a27e25be",
       "version_major": 2,
       "version_minor": 0
      },
      "text/html": [
       "<p>Failed to display Jupyter Widget of type <code>HBox</code>.</p>\n",
       "<p>\n",
       "  If you're reading this message in the Jupyter Notebook or JupyterLab Notebook, it may mean\n",
       "  that the widgets JavaScript is still loading. If this message persists, it\n",
       "  likely means that the widgets JavaScript library is either not installed or\n",
       "  not enabled. See the <a href=\"https://ipywidgets.readthedocs.io/en/stable/user_install.html\">Jupyter\n",
       "  Widgets Documentation</a> for setup instructions.\n",
       "</p>\n",
       "<p>\n",
       "  If you're reading this message in another frontend (for example, a static\n",
       "  rendering on GitHub or <a href=\"https://nbviewer.jupyter.org/\">NBViewer</a>),\n",
       "  it may mean that your frontend doesn't currently support widgets.\n",
       "</p>\n"
      ],
      "text/plain": [
       "HBox(children=(IntProgress(value=0, description='Nº c:70', max=10), HTML(value='')))"
      ]
     },
     "metadata": {},
     "output_type": "display_data"
    },
    {
     "name": "stdout",
     "output_type": "stream",
     "text": [
      "\n"
     ]
    }
   ],
   "source": [
    "#calculando as acuracias (70 x 4)\n",
    "print(\"---Yale---\")\n",
    "X, Y = CarregarYaleFaces()\n",
    "acc_yale, std_yale = Experimento(X, Y, 'teste2.txt')"
   ]
  },
  {
   "cell_type": "code",
   "execution_count": 70,
   "metadata": {},
   "outputs": [
    {
     "name": "stdout",
     "output_type": "stream",
     "text": [
      "15\n"
     ]
    },
    {
     "data": {
      "image/png": "[encoded data removed]",
      "text/plain": [
       "<matplotlib.figure.Figure at 0xcce2be0>"
      ]
     },
     "metadata": {},
     "output_type": "display_data"
    }
   ],
   "source": [
    "ImprimirResultados(acc_yale, \"Yale Faces\")"
   ]
  },
  {
   "cell_type": "code",
   "execution_count": 71,
   "metadata": {},
   "outputs": [
    {
     "name": "stdout",
     "output_type": "stream",
     "text": [
      "\t+--------------------Yale--------------------+\n",
      "\t-----F Eigenfaces-----------F Eigenfaces-*----\n",
      "1\t25.542 +-0.040\t\t29.759 +-0.083\n",
      "5\t63.373 +-0.040\t\t62.410 +-0.061\n",
      "10\t67.952 +-0.029\t\t64.337 +-0.041\n",
      "15\t68.313 +-0.044\t\t62.771 +-0.034\n",
      "20\t71.325 +-0.033\t\t65.301 +-0.058\n",
      "25\t75.783 +-0.053\t\t64.699 +-0.066\n",
      "30\t78.313 +-0.034\t\t71.566 +-0.036\n",
      "35\t77.470 +-0.051\t\t69.277 +-0.061\n",
      "40\t79.759 +-0.050\t\t69.759 +-0.047\n",
      "45\t80.602 +-0.070\t\t70.120 +-0.030\n",
      "50\t82.048 +-0.036\t\t69.277 +-0.037\n",
      "55\t81.566 +-0.064\t\t69.518 +-0.074\n",
      "60\t81.566 +-0.042\t\t72.651 +-0.046\n",
      "65\t79.157 +-0.035\t\t70.843 +-0.042\n",
      "70\t82.169 +-0.054\t\t71.446 +-0.042\n",
      "\t---------------------AT&T---------------------\n",
      "\t-----F Eigenfaces-----------F Eigenfaces-*----\n",
      "\t------------------Sheffield-------------------\n",
      "\t-----F Eigenfaces-----------F Eigenfaces-*----\n"
     ]
    }
   ],
   "source": [
    "print(\"\\t+--------------------Yale--------------------+\")\n",
    "print(\"\\t-----F Eigenfaces-----------F Eigenfaces-*----\")\n",
    "ImprimirTabela(acc_yale, std_yale)\n",
    "\n",
    "print(\"\\t---------------------AT&T---------------------\")\n",
    "print(\"\\t-----F Eigenfaces-----------F Eigenfaces-*----\")\n",
    "#ImprimirTabela(acc_att, std_att)\n",
    "\n",
    "print(\"\\t------------------Sheffield-------------------\")\n",
    "print(\"\\t-----F Eigenfaces-----------F Eigenfaces-*----\")\n",
    "#ImprimirTabela(acc_sheffield, std_sheffield)"
   ]
  },
  {
   "cell_type": "code",
   "execution_count": null,
   "metadata": {},
   "outputs": [],
   "source": []
  }
 ],
 "metadata": {
  "kernelspec": {
   "display_name": "Python 3",
   "language": "python",
   "name": "python3"
  },
  "language_info": {
   "codemirror_mode": {
    "name": "ipython",
    "version": 3
   },
   "file_extension": ".py",
   "mimetype": "text/x-python",
   "name": "python",
   "nbconvert_exporter": "python",
   "pygments_lexer": "ipython3",
   "version": "3.6.4"
  }
 },
 "nbformat": 4,
 "nbformat_minor": 2
}
