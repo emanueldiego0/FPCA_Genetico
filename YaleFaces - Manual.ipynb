{
 "cells": [
  {
   "cell_type": "code",
   "execution_count": 2,
   "metadata": {},
   "outputs": [
    {
     "data": {
      "text/plain": [
       "'C:\\\\Users\\\\EMANUEL\\\\Desktop\\\\Autofaces Modificado\\\\FPCA_Genetico'"
      ]
     },
     "execution_count": 2,
     "metadata": {},
     "output_type": "execute_result"
    }
   ],
   "source": [
    "import os\n",
    "import glob\n",
    "import imageio\n",
    "import numpy as np\n",
    "import matplotlib.pyplot as plt\n",
    "import cv2\n",
    "import warnings\n",
    "import math\n",
    "from tqdm import tnrange, tqdm_notebook\n",
    "from time import sleep, time\n",
    "from sklearn.neighbors import KNeighborsClassifier\n",
    "from sklearn.model_selection import train_test_split\n",
    "\n",
    "#%matplotlib inline\n",
    "\n",
    "warnings.filterwarnings('ignore')\n",
    "HOLDOUT = 10\n",
    "n_experimento = 1\n",
    "experimento_folder = 'Experimento'+str(n_experimento)\n",
    "\n",
    "r = 0.01\n",
    "os.chdir(\"C:\\\\Users\\\\EMANUEL\\\\Desktop\\\\Autofaces Modificado\\\\FPCA_Genetico\")\n",
    "os.getcwd()"
   ]
  },
  {
   "cell_type": "code",
   "execution_count": 101,
   "metadata": {},
   "outputs": [],
   "source": [
    "def CarregarYaleFaces():\n",
    "    files = glob.glob(\"databases/yalefaces/*\")\n",
    "    images_yale = [np.array(imageio.mimread(file))[0] for file in files]\n",
    "    images_yale_resized = [cv2.resize(image, dsize=(28, 23), interpolation=cv2.INTER_CUBIC) for image in images_yale]\n",
    "    images_yale_resized = np.array(images_yale_resized)\n",
    "    images_yale_flatten = [image.flatten() for image in images_yale_resized]\n",
    "    images_yale_flatten = np.array(images_yale_flatten)\n",
    "    #print('#Amostras (n): '+str(images_yale_flatten.shape[0]))\n",
    "    #print('#Features (m): '+str(images_yale_flatten.shape[1]))\n",
    "    Y = [f.split('.')[0] for f in files]\n",
    "    return images_yale_flatten, Y\n",
    "\n",
    "def CarregarAtt():\n",
    "    folders = glob.glob(\"databases/att_faces/*\")\n",
    "    images_att = []\n",
    "    Y = []\n",
    "    \n",
    "    for f in folders:\n",
    "        files = glob.glob(f+\"/*\")\n",
    "        #images = [np.array(imageio.mimread(file))[0] for file in files]\n",
    "        images = [cv2.imread(file,-1)[0] for file in files]\n",
    "        images_resized = [cv2.resize(image, dsize=(28, 23), interpolation=cv2.INTER_CUBIC) for image in images]\n",
    "        #mages_resized = np.array(images_resized)\n",
    "        images_flatten = [image.flatten() for image in images_resized]\n",
    "        #mages_flatten = np.array(images_flatten)\n",
    "        images_att.extend(images_flatten)\n",
    "        Y.extend([f] * 10)\n",
    "    return np.array(images_att), Y\n",
    "    #return folders\n",
    "\n",
    "def CarregarSheffield():\n",
    "    folders = glob.glob(\"databases/sheffield/cropped/*\")\n",
    "    images_sheffield = []\n",
    "    Y = []\n",
    "    \n",
    "    for f in folders:\n",
    "        files = glob.glob(f+\"/face/*\")\n",
    "        images = [cv2.imread(file,-1)[0] for file in files]\n",
    "        images_resized = [cv2.resize(image, dsize=(28, 23), interpolation=cv2.INTER_CUBIC) for image in images]\n",
    "        images_flatten = [image.flatten() for image in images_resized]\n",
    "        images_sheffield.extend(images_flatten)\n",
    "        Y.extend([f] * len(files))\n",
    "    return np.array(images_sheffield), Y"
   ]
  },
  {
   "cell_type": "code",
   "execution_count": 58,
   "metadata": {},
   "outputs": [
    {
     "name": "stdout",
     "output_type": "stream",
     "text": [
      "(165, 644)\n",
      "(400, 644)\n"
     ]
    }
   ],
   "source": [
    "print(CarregarYaleFaces()[0].shape)\n",
    "print(CarregarAtt()[0].shape)"
   ]
  },
  {
   "cell_type": "code",
   "execution_count": 5,
   "metadata": {},
   "outputs": [],
   "source": [
    "def F_Eigenfaces(X, W, k, r):\n",
    "    n = X.shape[0]\n",
    "    m = X.shape[1]\n",
    "    mean = np.mean(X, axis = 0)\n",
    "    D = np.zeros((n, n))\n",
    "    for j in range(m):\n",
    "        a = np.power(X[:,j], r) - np.power(X[:,j].mean(), r)\n",
    "        a = a.reshape(n,1)\n",
    "        b = a.T\n",
    "        D = D + (a * b)\n",
    "    val, vec = np.linalg.eig(D)\n",
    "    val = np.abs(val)\n",
    "    vec_c = 1. / np.power((n * val), 0.5)\n",
    "    vec_c = vec_c * (np.power(X, r) - np.power(mean,r)).T.dot(vec)\n",
    "    X_ = vec_c.T.dot((np.power(X,r) - np.power(mean,r)).T)\n",
    "    X__ = vec_c.T.dot((np.power(W,r) - np.power(mean,r)).T)\n",
    "    return X_.T[:,:k], X__.T[:,:k]"
   ]
  },
  {
   "cell_type": "code",
   "execution_count": 6,
   "metadata": {},
   "outputs": [],
   "source": [
    "def F_Eigenfaces2(X, W, k, R):\n",
    "    r = 0.01\n",
    "    n = X.shape[0]\n",
    "    m = X.shape[1]\n",
    "    mean = np.mean(X, axis = 0)\n",
    "    D = np.zeros((n, n))\n",
    "    for j in range(m):\n",
    "        a = np.power(X[:,j], r) - np.power(X[:,j].mean(), r)\n",
    "        a = a.reshape(n,1)\n",
    "        b = a.T\n",
    "        D = D + (a * b)\n",
    "    val, vec = np.linalg.eig(D)\n",
    "    val = np.abs(val)\n",
    "    vec_c = 1. / np.power((n * val), 0.5)\n",
    "    vec_c = vec_c * (np.power(X, R) - np.power(mean, R)).T.dot(vec)\n",
    "    X_ = vec_c.T.dot((np.power(X, R) - np.power(mean, R)).T)\n",
    "    X__ = vec_c.T.dot((np.power(W, R) - np.power(mean, R)).T)\n",
    "    return X_.T[:,:k], X__.T[:,:k]"
   ]
  },
  {
   "cell_type": "code",
   "execution_count": 7,
   "metadata": {},
   "outputs": [],
   "source": [
    "def generate_R2(r, LINHAS, COLUNAS):\n",
    "    #M_ = np.random.rand(4)\n",
    "    width = 23\n",
    "    height = 28\n",
    "    r = np.array(r).reshape((LINHAS,COLUNAS))\n",
    "    \n",
    "    h = height // LINHAS\n",
    "    w = width // COLUNAS\n",
    "    \n",
    "    h_ = height % LINHAS\n",
    "    w_ = width % COLUNAS\n",
    "    \n",
    "    R = []\n",
    "    for i in range(LINHAS):\n",
    "        R_ = []\n",
    "        for j in range(COLUNAS):\n",
    "            if(j != COLUNAS-1):\n",
    "                R_.extend(w * [r[i][j]])\n",
    "            else:\n",
    "                R_.extend((w + w_) * [r[i][j]])\n",
    "        if(i != LINHAS-1):\n",
    "            R_ *= h\n",
    "        else:\n",
    "            R_ *= (h + h_)\n",
    "        R.extend(R_)\n",
    "        \n",
    "    return R"
   ]
  },
  {
   "cell_type": "code",
   "execution_count": 8,
   "metadata": {},
   "outputs": [],
   "source": [
    "def AvaliarClassificadores2(X_train, X_test, y_train, y_test):\n",
    "    \n",
    "    clf_1nn = KNeighborsClassifier(n_neighbors=1).fit(X_train, y_train)\n",
    "    return clf_1nn.score(X_test, y_test) * 100"
   ]
  },
  {
   "cell_type": "code",
   "execution_count": 9,
   "metadata": {},
   "outputs": [],
   "source": [
    "def ExperimentoSimples(X, Y, i, K, filename):\n",
    "    #LINHA TEMPORARIA\n",
    "    #R = ler(filename)\n",
    "    R = filename\n",
    "    n_componentes = K\n",
    "    \n",
    "    #for i in tqdm(range(1, 16)):\n",
    "    s_feig = []\n",
    "    s_feig_star = []\n",
    "\n",
    "\n",
    "    for j in range(HOLDOUT):\n",
    "    #for j in tqdm_notebook(range(HOLDOUT), desc='Nº c:{0}'.format(n_componentes)):\n",
    "        X_train, X_test, y_train, y_test = train_test_split(X, Y, test_size=0.5, random_state= round(time()) + 15 * j)\n",
    "        #print(X_train)\n",
    "\n",
    "        #gerar os conjuntos de treino e teste transformados\n",
    "        #X_pca_train, X_pca_test  = PCA(X_train, X_test, n_componentes)\n",
    "        l = int(np.sqrt(len(R[0])))\n",
    "        X_feig_train, X_feig_test = F_Eigenfaces(X_train, X_test, n_componentes, r)\n",
    "        X_feig_star_train, X_feig_star_test = F_Eigenfaces2(X_train, \n",
    "                                                            X_test, \n",
    "                                                            n_componentes, \n",
    "                                                            generate_R2(R[i], l, l))\n",
    "\n",
    "        #acuracias\n",
    "        #s_pca.append(AvaliarClassificadores2(X_pca_train, X_pca_test, y_train, y_test))X_eige_test\n",
    "        s_feig.append(AvaliarClassificadores2(X_feig_train, X_feig_test, y_train, y_test))\n",
    "        s_feig_star.append(AvaliarClassificadores2(X_feig_star_train, X_feig_star_test, y_train, y_test))\n",
    "\n",
    "    print('Finalizado')\n",
    "    return np.array(s_feig).mean(), np.array(s_feig_star).mean()\n",
    "    "
   ]
  },
  {
   "cell_type": "code",
   "execution_count": 10,
   "metadata": {},
   "outputs": [],
   "source": [
    "def Experimento(X, Y, filename):\n",
    "    acc = []\n",
    "    std = []\n",
    "    \n",
    "    #LINHA TEMPORARIA\n",
    "    #R = ler(filename)\n",
    "    R = filename\n",
    "    n_componentes = 1\n",
    "    \n",
    "    #for i in tqdm(range(1, 16)):\n",
    "    for i in tnrange(15, desc='Progresso '):\n",
    "        \n",
    "        #print('N Components : %s' %(str(n_componentes)))\n",
    "            \n",
    "        #print('# Progresso :'+str(n_componentes)+'/70')\n",
    "        \n",
    "        #s_pca = []\n",
    "        \n",
    "        s_feig = []\n",
    "        s_feig_star = []\n",
    "        \n",
    "        \n",
    "        #for j in range(HOLDOUT):\n",
    "        for j in tqdm_notebook(range(HOLDOUT), desc='Nº c:{0}'.format(n_componentes)):\n",
    "            X_train, X_test, y_train, y_test = train_test_split(X, Y, test_size=0.5, random_state= round(time()) + 15 * j)\n",
    "            #print(X_train)\n",
    "\n",
    "            #gerar os conjuntos de treino e teste transformados\n",
    "            #X_pca_train, X_pca_test  = PCA(X_train, X_test, n_componentes)\n",
    "            l = int(np.sqrt(len(R[0])))\n",
    "            X_feig_train, X_feig_test = F_Eigenfaces(X_train, X_test, n_componentes, r)\n",
    "            X_feig_star_train, X_feig_star_test = F_Eigenfaces2(X_train, \n",
    "                                                                X_test, \n",
    "                                                                n_componentes, \n",
    "                                                                generate_R2(R[i], l, l))\n",
    "            \n",
    "            #acuracias\n",
    "            #s_pca.append(AvaliarClassificadores2(X_pca_train, X_pca_test, y_train, y_test))X_eige_test\n",
    "            s_feig.append(AvaliarClassificadores2(X_feig_train, X_feig_test, y_train, y_test))\n",
    "            s_feig_star.append(AvaliarClassificadores2(X_feig_star_train, X_feig_star_test, y_train, y_test))\n",
    "\n",
    "        #print(s_fpca)\n",
    "        acc.append([#np.array(s_pca).mean(),\n",
    "                    np.array(s_feig).mean(),\n",
    "                    np.array(s_feig_star).mean()])\n",
    "        \n",
    "        std.append([#np.std(s_pca),\n",
    "                    np.std(s_feig) / 100,\n",
    "                    np.std(s_feig_star) / 100])\n",
    "        \n",
    "        if(n_componentes == 1):\n",
    "            n_componentes += 4\n",
    "        else:\n",
    "            n_componentes += 5\n",
    "            \n",
    "            sleep(0.01)\n",
    "        \n",
    "    return np.array(acc), np.array(std)"
   ]
  },
  {
   "cell_type": "code",
   "execution_count": 11,
   "metadata": {},
   "outputs": [],
   "source": [
    "def ImprimirResultados(acc, dataset_name):\n",
    "    \n",
    "    x = np.arange(0, 15)\n",
    "    x = x * 5\n",
    "    x[0] += 1\n",
    "    #print(len(x))\n",
    "    #plt.figure(figsize=(20,15))\n",
    "    plt.title(\"Dataset: \"+dataset_name+\" - Classificador: 1-NN\")\n",
    "    #plt.plot(x, acc_yale[:,0], color='black')\n",
    "    plt.plot(x, acc[:,0], color='red')\n",
    "    plt.plot(x, acc[:,1], color='blue')\n",
    "    plt.ylabel('Acuracia media')\n",
    "    plt.xlabel('Numero de componentes')\n",
    "    #plt.legend(labels=['PCA','FPCA','Eigenfaces','F Eigenfaces'])\n",
    "    plt.legend(labels=['F Eigenfaces','F Eigenfaces *'])\n",
    "    plt.grid()\n",
    "    #plt.show()"
   ]
  },
  {
   "cell_type": "code",
   "execution_count": 102,
   "metadata": {},
   "outputs": [
    {
     "name": "stdout",
     "output_type": "stream",
     "text": [
      "Finalizado\n",
      "Finalizado\n",
      "Finalizado\n",
      "Finalizado\n",
      "Finalizado\n",
      "Finalizado\n",
      "Finalizado\n",
      "Finalizado\n",
      "Finalizado\n",
      "Finalizado\n",
      "Finalizado\n",
      "Finalizado\n",
      "Finalizado\n",
      "Finalizado\n",
      "Finalizado\n"
     ]
    }
   ],
   "source": [
    "#X, Y = CarregarYaleFaces()\n",
    "#X, Y = CarregarAtt()\n",
    "X, Y = CarregarSheffield()\n",
    "acc_yale = [list([0., 0.]) for i in range(15)]\n",
    "for i,c in enumerate(components):\n",
    "    x1, x2 = ExperimentoSimples(X, Y, i, c, v2)\n",
    "    acc_yale[i] = [x1, x2]\n",
    "acc_yale = np.array(acc_yale)"
   ]
  },
  {
   "cell_type": "code",
   "execution_count": 103,
   "metadata": {},
   "outputs": [],
   "source": [
    "import random\n",
    "def generate_r(size, base, interval):\n",
    "    r = []\n",
    "    for i in range(size):\n",
    "        noise = random.random()\n",
    "        while(noise > interval):\n",
    "            noise = random.random()\n",
    "        r.append(base + noise)\n",
    "    return r"
   ]
  },
  {
   "cell_type": "code",
   "execution_count": 113,
   "metadata": {},
   "outputs": [
    {
     "data": {
      "text/plain": [
       "[0.012769414004154092,\n",
       " 0.010658736940892801,\n",
       " 0.012975990904670711,\n",
       " 0.010913830355293688,\n",
       " 0.012525652710069992,\n",
       " 0.014666533438764331,\n",
       " 0.011362525610154042,\n",
       " 0.014880777556471872,\n",
       " 0.010116934139664848]"
      ]
     },
     "execution_count": 113,
     "metadata": {},
     "output_type": "execute_result"
    }
   ],
   "source": [
    "generate_r(9, 0.01, 0.005)"
   ]
  },
  {
   "cell_type": "code",
   "execution_count": 114,
   "metadata": {},
   "outputs": [],
   "source": [
    "components = [1,5,10,15,20,25,30,35,40,45,50,55,60,65,70]\n",
    "v2 = [[0.015, 0.086, 0.0655, 0.014, 0.01, 0.1, 0.025, 0.16, 0.018], #0-1\n",
    "      [0.029, 0.072, 0.043, 0.0699, 0.023, 0.024, 0.071, 0.024, 0.025], #1-5\n",
    "      [0.01, 0.09, 0.025, 0.068, 0.01, 0.05, 0.08, 0.1, 0.025], #2-10\n",
    "      [0.026910007161966558,\n",
    " 0.02661168074322872,\n",
    " 0.02046937648523805,\n",
    " 0.01347415790578165,\n",
    " 0.015148539571042332,\n",
    " 0.01563025016926,\n",
    " 0.019992328342485426,\n",
    " 0.025089594747003778,\n",
    " 0.013139004237401322], #3-15\n",
    "      [0.012022218992665637,\n",
    " 0.01489475007016238,\n",
    " 0.011930171386344104,\n",
    " 0.010391943091747615,\n",
    " 0.013890086419421568,\n",
    " 0.011290831560481376,\n",
    " 0.014538144824352109,\n",
    " 0.014905381619860427,\n",
    " 0.013854921580617066], #4-20\n",
    "      [0.012561054913532424,\n",
    " 0.014644324133868727,\n",
    " 0.013562335599403555,\n",
    " 0.01264146345001226,\n",
    " 0.0105824732572699,\n",
    " 0.011767659040871728,\n",
    " 0.014557037897807481,\n",
    " 0.010067285965368091,\n",
    " 0.016566888886402446], #5-25\n",
    "      [0.012769414004154092,\n",
    " 0.010658736940892801,\n",
    " 0.012975990904670711,\n",
    " 0.010913830355293688,\n",
    " 0.012525652710069992,\n",
    " 0.014666533438764331,\n",
    " 0.011362525610154042,\n",
    " 0.014880777556471872,\n",
    " 0.010116934139664848], #6-30\n",
    "      [0.026910007161966558,\n",
    " 0.02661168074322872,\n",
    " 0.02046937648523805,\n",
    " 0.01347415790578165,\n",
    " 0.015148539571042332,\n",
    " 0.01563025016926,\n",
    " 0.019992328342485426,\n",
    " 0.025089594747003778,\n",
    " 0.013139004237401322], #7-35\n",
    "      [0.026910007161966558,\n",
    " 0.02661168074322872,\n",
    " 0.02046937648523805,\n",
    " 0.01347415790578165,\n",
    " 0.015148539571042332,\n",
    " 0.01563025016926,\n",
    " 0.019992328342485426,\n",
    " 0.025089594747003778,\n",
    " 0.013139004237401322], #8-40\n",
    "      [0.012937831022992499,\n",
    " 0.01057050482155352,\n",
    " 0.016937949388337585,\n",
    " 0.016554266545261813,\n",
    " 0.013487371651216709,\n",
    " 0.010288806654792695,\n",
    " 0.017314279446355323,\n",
    " 0.013444911975863385,\n",
    " 0.014155336132131371], #9-45\n",
    "      [0.012937831022992499,\n",
    " 0.01057050482155352,\n",
    " 0.016937949388337585,\n",
    " 0.016554266545261813,\n",
    " 0.013487371651216709,\n",
    " 0.010288806654792695,\n",
    " 0.017314279446355323,\n",
    " 0.013444911975863385,\n",
    " 0.014155336132131371], #10-50\n",
    "      [0.012937831022992499,\n",
    " 0.01057050482155352,\n",
    " 0.016937949388337585,\n",
    " 0.016554266545261813,\n",
    " 0.013487371651216709,\n",
    " 0.010288806654792695,\n",
    " 0.017314279446355323,\n",
    " 0.013444911975863385,\n",
    " 0.014155336132131371], #11-55\n",
    "      [0.012937831022992499,\n",
    " 0.01057050482155352,\n",
    " 0.016937949388337585,\n",
    " 0.016554266545261813,\n",
    " 0.013487371651216709,\n",
    " 0.010288806654792695,\n",
    " 0.017314279446355323,\n",
    " 0.013444911975863385,\n",
    " 0.014155336132131371], #12-60\n",
    "      [0.012937831022992499,\n",
    " 0.01057050482155352,\n",
    " 0.016937949388337585,\n",
    " 0.016554266545261813,\n",
    " 0.013487371651216709,\n",
    " 0.010288806654792695,\n",
    " 0.017314279446355323,\n",
    " 0.013444911975863385,\n",
    " 0.014155336132131371], #13-65\n",
    "      [0.012561054913532424,\n",
    " 0.014644324133868727,\n",
    " 0.013562335599403555,\n",
    " 0.01264146345001226,\n",
    " 0.0105824732572699,\n",
    " 0.011767659040871728,\n",
    " 0.014557037897807481,\n",
    " 0.010067285965368091,\n",
    " 0.016566888886402446]] #14-70"
   ]
  },
  {
   "cell_type": "code",
   "execution_count": 115,
   "metadata": {},
   "outputs": [
    {
     "name": "stdout",
     "output_type": "stream",
     "text": [
      "Finalizado\n"
     ]
    }
   ],
   "source": [
    "K = 6\n",
    "x1, x2 = ExperimentoSimples(X, Y, K, components[K], v2)\n",
    "acc_yale[K] = [x1, x2]\n",
    "acc_yale = np.array(acc_yale)"
   ]
  },
  {
   "cell_type": "code",
   "execution_count": 116,
   "metadata": {},
   "outputs": [
    {
     "data": {
      "image/png": "[encoded data removed]",
      "text/plain": [
       "<Figure size 432x288 with 1 Axes>"
      ]
     },
     "metadata": {},
     "output_type": "display_data"
    }
   ],
   "source": [
    "ImprimirResultados(acc_yale, \"Att\")"
   ]
  },
  {
   "cell_type": "code",
   "execution_count": 98,
   "metadata": {},
   "outputs": [
    {
     "name": "stdout",
     "output_type": "stream",
     "text": [
      "---Yale---\n"
     ]
    },
    {
     "data": {
      "application/vnd.jupyter.widget-view+json": {
       "model_id": "f4a9e9ddd44a493da69e2c1abaa6e945",
       "version_major": 2,
       "version_minor": 0
      },
      "text/plain": [
       "HBox(children=(IntProgress(value=0, description='Progresso ', max=15), HTML(value='')))"
      ]
     },
     "metadata": {},
     "output_type": "display_data"
    },
    {
     "data": {
      "application/vnd.jupyter.widget-view+json": {
       "model_id": "589500788bec41c5b1597ecaf96bebd8",
       "version_major": 2,
       "version_minor": 0
      },
      "text/plain": [
       "HBox(children=(IntProgress(value=0, description='Nº c:1', max=10), HTML(value='')))"
      ]
     },
     "metadata": {},
     "output_type": "display_data"
    },
    {
     "data": {
      "application/vnd.jupyter.widget-view+json": {
       "model_id": "ac004774913346aeacde51c1756053f7",
       "version_major": 2,
       "version_minor": 0
      },
      "text/plain": [
       "HBox(children=(IntProgress(value=0, description='Nº c:5', max=10), HTML(value='')))"
      ]
     },
     "metadata": {},
     "output_type": "display_data"
    },
    {
     "data": {
      "application/vnd.jupyter.widget-view+json": {
       "model_id": "442a37c52cb84f468f6c7eff8ee36e03",
       "version_major": 2,
       "version_minor": 0
      },
      "text/plain": [
       "HBox(children=(IntProgress(value=0, description='Nº c:10', max=10), HTML(value='')))"
      ]
     },
     "metadata": {},
     "output_type": "display_data"
    },
    {
     "data": {
      "application/vnd.jupyter.widget-view+json": {
       "model_id": "0feb25cb10e94a4a8e9add3d8f85be4e",
       "version_major": 2,
       "version_minor": 0
      },
      "text/plain": [
       "HBox(children=(IntProgress(value=0, description='Nº c:15', max=10), HTML(value='')))"
      ]
     },
     "metadata": {},
     "output_type": "display_data"
    },
    {
     "data": {
      "application/vnd.jupyter.widget-view+json": {
       "model_id": "690e5e96b17d40239b999265db0b684e",
       "version_major": 2,
       "version_minor": 0
      },
      "text/plain": [
       "HBox(children=(IntProgress(value=0, description='Nº c:20', max=10), HTML(value='')))"
      ]
     },
     "metadata": {},
     "output_type": "display_data"
    },
    {
     "data": {
      "application/vnd.jupyter.widget-view+json": {
       "model_id": "040ca2e7ce974e95b823b99c61d67092",
       "version_major": 2,
       "version_minor": 0
      },
      "text/plain": [
       "HBox(children=(IntProgress(value=0, description='Nº c:25', max=10), HTML(value='')))"
      ]
     },
     "metadata": {},
     "output_type": "display_data"
    },
    {
     "data": {
      "application/vnd.jupyter.widget-view+json": {
       "model_id": "690a6572d73247a79e57233c3e6c3c6c",
       "version_major": 2,
       "version_minor": 0
      },
      "text/plain": [
       "HBox(children=(IntProgress(value=0, description='Nº c:30', max=10), HTML(value='')))"
      ]
     },
     "metadata": {},
     "output_type": "display_data"
    },
    {
     "data": {
      "application/vnd.jupyter.widget-view+json": {
       "model_id": "4299cee4ac214cfaaf19bf8caceccc66",
       "version_major": 2,
       "version_minor": 0
      },
      "text/plain": [
       "HBox(children=(IntProgress(value=0, description='Nº c:35', max=10), HTML(value='')))"
      ]
     },
     "metadata": {},
     "output_type": "display_data"
    },
    {
     "data": {
      "application/vnd.jupyter.widget-view+json": {
       "model_id": "3654375b639a41d7974d8e5578a6ef3b",
       "version_major": 2,
       "version_minor": 0
      },
      "text/plain": [
       "HBox(children=(IntProgress(value=0, description='Nº c:40', max=10), HTML(value='')))"
      ]
     },
     "metadata": {},
     "output_type": "display_data"
    },
    {
     "data": {
      "application/vnd.jupyter.widget-view+json": {
       "model_id": "16bfc31188dd4580a07eb7d21a9c6b39",
       "version_major": 2,
       "version_minor": 0
      },
      "text/plain": [
       "HBox(children=(IntProgress(value=0, description='Nº c:45', max=10), HTML(value='')))"
      ]
     },
     "metadata": {},
     "output_type": "display_data"
    },
    {
     "data": {
      "application/vnd.jupyter.widget-view+json": {
       "model_id": "c3edb27f984c4356a1e42580fb3c2680",
       "version_major": 2,
       "version_minor": 0
      },
      "text/plain": [
       "HBox(children=(IntProgress(value=0, description='Nº c:50', max=10), HTML(value='')))"
      ]
     },
     "metadata": {},
     "output_type": "display_data"
    },
    {
     "data": {
      "application/vnd.jupyter.widget-view+json": {
       "model_id": "abf4a9134c3347da8c2ef5f9e7533f15",
       "version_major": 2,
       "version_minor": 0
      },
      "text/plain": [
       "HBox(children=(IntProgress(value=0, description='Nº c:55', max=10), HTML(value='')))"
      ]
     },
     "metadata": {},
     "output_type": "display_data"
    },
    {
     "data": {
      "application/vnd.jupyter.widget-view+json": {
       "model_id": "47f7184aafb24ed88af019f26c24fb12",
       "version_major": 2,
       "version_minor": 0
      },
      "text/plain": [
       "HBox(children=(IntProgress(value=0, description='Nº c:60', max=10), HTML(value='')))"
      ]
     },
     "metadata": {},
     "output_type": "display_data"
    },
    {
     "data": {
      "application/vnd.jupyter.widget-view+json": {
       "model_id": "843188d7d0f24594a77d4cb1497d682f",
       "version_major": 2,
       "version_minor": 0
      },
      "text/plain": [
       "HBox(children=(IntProgress(value=0, description='Nº c:65', max=10), HTML(value='')))"
      ]
     },
     "metadata": {},
     "output_type": "display_data"
    },
    {
     "data": {
      "application/vnd.jupyter.widget-view+json": {
       "model_id": "b8aea269b8724e1db0a74b249df44daa",
       "version_major": 2,
       "version_minor": 0
      },
      "text/plain": [
       "HBox(children=(IntProgress(value=0, description='Nº c:70', max=10), HTML(value='')))"
      ]
     },
     "metadata": {},
     "output_type": "display_data"
    },
    {
     "name": "stdout",
     "output_type": "stream",
     "text": [
      "\n"
     ]
    }
   ],
   "source": [
    "#calculando as acuracias (70 x 4)\n",
    "print(\"---Yale---\")\n",
    "#acc_yale, std_yale = Experimento(X, Y, experimento_folder+'\\\\genetico\\\\genetico_yale.txt')\n",
    "acc_yale, std_yale = Experimento(X, Y, v2)"
   ]
  },
  {
   "cell_type": "code",
   "execution_count": 99,
   "metadata": {},
   "outputs": [
    {
     "data": {
      "image/png": "[encoded data removed]",
      "text/plain": [
       "<Figure size 432x288 with 1 Axes>"
      ]
     },
     "metadata": {},
     "output_type": "display_data"
    }
   ],
   "source": [
    "ImprimirResultados(acc_yale, \"Att\")"
   ]
  },
  {
   "cell_type": "code",
   "execution_count": 100,
   "metadata": {},
   "outputs": [],
   "source": [
    "#salvando as acuracias dos classificadores\n",
    "acc = acc_yale\n",
    "n_experimento = 3\n",
    "experimento_folder = 'Experimento'+str(n_experimento)\n",
    "folder = 'acc'\n",
    "dataset = 'yale'\n",
    "\n",
    "filename1 = experimento_folder+'\\\\'+folder+'\\\\acc_'+dataset+'_eigenfaces.csv'\n",
    "filename2 = experimento_folder+'\\\\'+folder+'\\\\acc_'+dataset+'_eigenfaces_proposed.csv'\n",
    "np.savetxt(filename1, acc[:,0], delimiter=',')\n",
    "np.savetxt(filename2, acc[:,1], delimiter=',')"
   ]
  },
  {
   "cell_type": "code",
   "execution_count": null,
   "metadata": {},
   "outputs": [],
   "source": []
  }
 ],
 "metadata": {
  "kernelspec": {
   "display_name": "Python 3",
   "language": "python",
   "name": "python3"
  },
  "language_info": {
   "codemirror_mode": {
    "name": "ipython",
    "version": 3
   },
   "file_extension": ".py",
   "mimetype": "text/x-python",
   "name": "python",
   "nbconvert_exporter": "python",
   "pygments_lexer": "ipython3",
   "version": "3.6.5"
  }
 },
 "nbformat": 4,
 "nbformat_minor": 2
}
