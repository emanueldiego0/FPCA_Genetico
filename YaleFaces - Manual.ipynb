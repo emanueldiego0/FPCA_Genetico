{
 "cells": [
  {
   "cell_type": "code",
   "execution_count": 1,
   "metadata": {},
   "outputs": [
    {
     "data": {
      "text/plain": [
       "'C:\\\\Users\\\\EMANUEL\\\\Desktop\\\\Autofaces Modificado\\\\FPCA_Genetico'"
      ]
     },
     "execution_count": 1,
     "metadata": {},
     "output_type": "execute_result"
    }
   ],
   "source": [
    "import os\n",
    "import glob\n",
    "import imageio\n",
    "import numpy as np\n",
    "import matplotlib.pyplot as plt\n",
    "import cv2\n",
    "import warnings\n",
    "import math\n",
    "from tqdm import tnrange, tqdm_notebook\n",
    "from time import sleep, time\n",
    "from sklearn.neighbors import KNeighborsClassifier\n",
    "from sklearn.model_selection import train_test_split\n",
    "\n",
    "#%matplotlib inline\n",
    "\n",
    "warnings.filterwarnings('ignore')\n",
    "HOLDOUT = 10\n",
    "n_experimento = 1\n",
    "experimento_folder = 'Experimento'+str(n_experimento)\n",
    "\n",
    "r = 0.01\n",
    "os.chdir(\"C:\\\\Users\\\\EMANUEL\\\\Desktop\\\\Autofaces Modificado\\\\FPCA_Genetico\")\n",
    "os.getcwd()"
   ]
  },
  {
   "cell_type": "code",
   "execution_count": 2,
   "metadata": {},
   "outputs": [],
   "source": [
    "def CarregarYaleFaces():\n",
    "    files = glob.glob(\"databases/yalefaces/*\")\n",
    "    images_yale = [np.array(imageio.mimread(file))[0] for file in files]\n",
    "    images_yale_resized = [cv2.resize(image, dsize=(28, 23), interpolation=cv2.INTER_CUBIC) for image in images_yale]\n",
    "    images_yale_resized = np.array(images_yale_resized)\n",
    "    images_yale_flatten = [image.flatten() for image in images_yale_resized]\n",
    "    images_yale_flatten = np.array(images_yale_flatten)\n",
    "    #print('#Amostras (n): '+str(images_yale_flatten.shape[0]))\n",
    "    #print('#Features (m): '+str(images_yale_flatten.shape[1]))\n",
    "    Y = [f.split('.')[0] for f in files]\n",
    "    return images_yale_flatten, Y"
   ]
  },
  {
   "cell_type": "code",
   "execution_count": 3,
   "metadata": {},
   "outputs": [
    {
     "name": "stdout",
     "output_type": "stream",
     "text": [
      "(165, 644)\n"
     ]
    }
   ],
   "source": [
    "print(CarregarYaleFaces()[0].shape)"
   ]
  },
  {
   "cell_type": "code",
   "execution_count": 4,
   "metadata": {},
   "outputs": [],
   "source": [
    "def F_Eigenfaces(X, W, k, r):\n",
    "    n = X.shape[0]\n",
    "    m = X.shape[1]\n",
    "    mean = np.mean(X, axis = 0)\n",
    "    D = np.zeros((n, n))\n",
    "    for j in range(m):\n",
    "        a = np.power(X[:,j], r) - np.power(X[:,j].mean(), r)\n",
    "        a = a.reshape(n,1)\n",
    "        b = a.T\n",
    "        D = D + (a * b)\n",
    "    val, vec = np.linalg.eig(D)\n",
    "    val = np.abs(val)\n",
    "    vec_c = 1. / np.power((n * val), 0.5)\n",
    "    vec_c = vec_c * (np.power(X, r) - np.power(mean,r)).T.dot(vec)\n",
    "    X_ = vec_c.T.dot((np.power(X,r) - np.power(mean,r)).T)\n",
    "    X__ = vec_c.T.dot((np.power(W,r) - np.power(mean,r)).T)\n",
    "    return X_.T[:,:k], X__.T[:,:k]"
   ]
  },
  {
   "cell_type": "code",
   "execution_count": 5,
   "metadata": {},
   "outputs": [],
   "source": [
    "def F_Eigenfaces2(X, W, k, R):\n",
    "    r = 0.01\n",
    "    n = X.shape[0]\n",
    "    m = X.shape[1]\n",
    "    mean = np.mean(X, axis = 0)\n",
    "    D = np.zeros((n, n))\n",
    "    for j in range(m):\n",
    "        a = np.power(X[:,j], r) - np.power(X[:,j].mean(), r)\n",
    "        a = a.reshape(n,1)\n",
    "        b = a.T\n",
    "        D = D + (a * b)\n",
    "    val, vec = np.linalg.eig(D)\n",
    "    val = np.abs(val)\n",
    "    vec_c = 1. / np.power((n * val), 0.5)\n",
    "    vec_c = vec_c * (np.power(X, R) - np.power(mean, R)).T.dot(vec)\n",
    "    X_ = vec_c.T.dot((np.power(X, R) - np.power(mean, R)).T)\n",
    "    X__ = vec_c.T.dot((np.power(W, R) - np.power(mean, R)).T)\n",
    "    return X_.T[:,:k], X__.T[:,:k]"
   ]
  },
  {
   "cell_type": "code",
   "execution_count": 6,
   "metadata": {},
   "outputs": [],
   "source": [
    "def generate_R2(r, LINHAS, COLUNAS):\n",
    "    #M_ = np.random.rand(4)\n",
    "    width = 23\n",
    "    height = 28\n",
    "    r = np.array(r).reshape((LINHAS,COLUNAS))\n",
    "    \n",
    "    h = height // LINHAS\n",
    "    w = width // COLUNAS\n",
    "    \n",
    "    h_ = height % LINHAS\n",
    "    w_ = width % COLUNAS\n",
    "    \n",
    "    R = []\n",
    "    for i in range(LINHAS):\n",
    "        R_ = []\n",
    "        for j in range(COLUNAS):\n",
    "            if(j != COLUNAS-1):\n",
    "                R_.extend(w * [r[i][j]])\n",
    "            else:\n",
    "                R_.extend((w + w_) * [r[i][j]])\n",
    "        if(i != LINHAS-1):\n",
    "            R_ *= h\n",
    "        else:\n",
    "            R_ *= (h + h_)\n",
    "        R.extend(R_)\n",
    "        \n",
    "    return R"
   ]
  },
  {
   "cell_type": "code",
   "execution_count": 47,
   "metadata": {},
   "outputs": [],
   "source": [
    "def AvaliarClassificadores2(X_train, X_test, y_train, y_test):\n",
    "    \n",
    "    clf_1nn = KNeighborsClassifier(n_neighbors=1).fit(X_train, y_train)\n",
    "    return clf_1nn.score(X_test, y_test) * 100"
   ]
  },
  {
   "cell_type": "code",
   "execution_count": 74,
   "metadata": {},
   "outputs": [],
   "source": [
    "def ExperimentoSimples(X, Y, i, K, filename):\n",
    "    #LINHA TEMPORARIA\n",
    "    #R = ler(filename)\n",
    "    R = filename\n",
    "    n_componentes = K\n",
    "    \n",
    "    #for i in tqdm(range(1, 16)):\n",
    "    s_feig = []\n",
    "    s_feig_star = []\n",
    "\n",
    "\n",
    "    for j in range(HOLDOUT):\n",
    "    #for j in tqdm_notebook(range(HOLDOUT), desc='Nº c:{0}'.format(n_componentes)):\n",
    "        X_train, X_test, y_train, y_test = train_test_split(X, Y, test_size=0.5, random_state= round(time()) + 15 * j)\n",
    "        #print(X_train)\n",
    "\n",
    "        #gerar os conjuntos de treino e teste transformados\n",
    "        #X_pca_train, X_pca_test  = PCA(X_train, X_test, n_componentes)\n",
    "        l = int(np.sqrt(len(R[0])))\n",
    "        X_feig_train, X_feig_test = F_Eigenfaces(X_train, X_test, n_componentes, r)\n",
    "        X_feig_star_train, X_feig_star_test = F_Eigenfaces2(X_train, \n",
    "                                                            X_test, \n",
    "                                                            n_componentes, \n",
    "                                                            generate_R2(R[i], l, l))\n",
    "\n",
    "        #acuracias\n",
    "        #s_pca.append(AvaliarClassificadores2(X_pca_train, X_pca_test, y_train, y_test))X_eige_test\n",
    "        s_feig.append(AvaliarClassificadores2(X_feig_train, X_feig_test, y_train, y_test))\n",
    "        s_feig_star.append(AvaliarClassificadores2(X_feig_star_train, X_feig_star_test, y_train, y_test))\n",
    "\n",
    "    print('Finalizado')\n",
    "    return np.array(s_feig).mean(), np.array(s_feig_star).mean()\n",
    "    "
   ]
  },
  {
   "cell_type": "code",
   "execution_count": 132,
   "metadata": {},
   "outputs": [],
   "source": [
    "def Experimento(X, Y, filename):\n",
    "    acc = []\n",
    "    std = []\n",
    "    \n",
    "    #LINHA TEMPORARIA\n",
    "    #R = ler(filename)\n",
    "    R = filename\n",
    "    n_componentes = 1\n",
    "    \n",
    "    #for i in tqdm(range(1, 16)):\n",
    "    for i in tnrange(15, desc='Progresso '):\n",
    "        \n",
    "        #print('N Components : %s' %(str(n_componentes)))\n",
    "            \n",
    "        #print('# Progresso :'+str(n_componentes)+'/70')\n",
    "        \n",
    "        #s_pca = []\n",
    "        \n",
    "        s_feig = []\n",
    "        s_feig_star = []\n",
    "        \n",
    "        \n",
    "        #for j in range(HOLDOUT):\n",
    "        for j in tqdm_notebook(range(HOLDOUT), desc='Nº c:{0}'.format(n_componentes)):\n",
    "            X_train, X_test, y_train, y_test = train_test_split(X, Y, test_size=0.5, random_state= round(time()) + 15 * j)\n",
    "            #print(X_train)\n",
    "\n",
    "            #gerar os conjuntos de treino e teste transformados\n",
    "            #X_pca_train, X_pca_test  = PCA(X_train, X_test, n_componentes)\n",
    "            l = int(np.sqrt(len(R[0])))\n",
    "            X_feig_train, X_feig_test = F_Eigenfaces(X_train, X_test, n_componentes, r)\n",
    "            X_feig_star_train, X_feig_star_test = F_Eigenfaces2(X_train, \n",
    "                                                                X_test, \n",
    "                                                                n_componentes, \n",
    "                                                                generate_R2(R[i], l, l))\n",
    "            \n",
    "            #acuracias\n",
    "            #s_pca.append(AvaliarClassificadores2(X_pca_train, X_pca_test, y_train, y_test))X_eige_test\n",
    "            s_feig.append(AvaliarClassificadores2(X_feig_train, X_feig_test, y_train, y_test))\n",
    "            s_feig_star.append(AvaliarClassificadores2(X_feig_star_train, X_feig_star_test, y_train, y_test))\n",
    "\n",
    "        #print(s_fpca)\n",
    "        acc.append([#np.array(s_pca).mean(),\n",
    "                    np.array(s_feig).mean(),\n",
    "                    np.array(s_feig_star).mean()])\n",
    "        \n",
    "        std.append([#np.std(s_pca),\n",
    "                    np.std(s_feig) / 100,\n",
    "                    np.std(s_feig_star) / 100])\n",
    "        \n",
    "        if(n_componentes == 1):\n",
    "            n_componentes += 4\n",
    "        else:\n",
    "            n_componentes += 5\n",
    "            \n",
    "            sleep(0.01)\n",
    "        \n",
    "    return np.array(acc), np.array(std)"
   ]
  },
  {
   "cell_type": "code",
   "execution_count": 75,
   "metadata": {},
   "outputs": [],
   "source": [
    "def ImprimirResultados(acc, dataset_name):\n",
    "    \n",
    "    x = np.arange(0, 15)\n",
    "    x = x * 5\n",
    "    x[0] += 1\n",
    "    #print(len(x))\n",
    "    #plt.figure(figsize=(20,15))\n",
    "    plt.title(\"Dataset: \"+dataset_name+\" - Classificador: 1-NN\")\n",
    "    #plt.plot(x, acc_yale[:,0], color='black')\n",
    "    plt.plot(x, acc[:,0], color='red')\n",
    "    plt.plot(x, acc[:,1], color='blue')\n",
    "    plt.ylabel('Acuracia media')\n",
    "    plt.xlabel('Numero de componentes')\n",
    "    #plt.legend(labels=['PCA','FPCA','Eigenfaces','F Eigenfaces'])\n",
    "    plt.legend(labels=['F Eigenfaces','F Eigenfaces *'])\n",
    "    plt.grid()\n",
    "    #plt.show()"
   ]
  },
  {
   "cell_type": "code",
   "execution_count": 151,
   "metadata": {},
   "outputs": [
    {
     "name": "stdout",
     "output_type": "stream",
     "text": [
      "Finalizado\n",
      "Finalizado\n",
      "Finalizado\n",
      "Finalizado\n",
      "Finalizado\n",
      "Finalizado\n",
      "Finalizado\n",
      "Finalizado\n",
      "Finalizado\n",
      "Finalizado\n",
      "Finalizado\n",
      "Finalizado\n",
      "Finalizado\n",
      "Finalizado\n",
      "Finalizado\n"
     ]
    }
   ],
   "source": [
    "X, Y = CarregarYaleFaces()\n",
    "acc_yale = [list([0., 0.]) for i in range(15)]\n",
    "for i,c in enumerate(components):\n",
    "    x1, x2 = ExperimentoSimples(X, Y, i, c, v2)\n",
    "    acc_yale[i] = [x1, x2]\n",
    "acc_yale = np.array(acc_yale)"
   ]
  },
  {
   "cell_type": "code",
   "execution_count": 185,
   "metadata": {},
   "outputs": [],
   "source": [
    "import random\n",
    "def generate_r(size, base, interval):\n",
    "    r = []\n",
    "    for i in range(size):\n",
    "        noise = random.random()\n",
    "        while(noise > interval):\n",
    "            noise = random.random()\n",
    "        r.append(base + noise)\n",
    "    return r"
   ]
  },
  {
   "cell_type": "code",
   "execution_count": 182,
   "metadata": {},
   "outputs": [
    {
     "data": {
      "text/plain": [
       "1.8289520787622593"
      ]
     },
     "execution_count": 182,
     "metadata": {},
     "output_type": "execute_result"
    }
   ],
   "source": [
    "import random\n",
    "random.random() / 0.5"
   ]
  },
  {
   "cell_type": "code",
   "execution_count": 201,
   "metadata": {},
   "outputs": [
    {
     "data": {
      "text/plain": [
       "[0.026910007161966558,\n",
       " 0.02661168074322872,\n",
       " 0.02046937648523805,\n",
       " 0.01347415790578165,\n",
       " 0.015148539571042332,\n",
       " 0.01563025016926,\n",
       " 0.019992328342485426,\n",
       " 0.025089594747003778,\n",
       " 0.013139004237401322]"
      ]
     },
     "execution_count": 201,
     "metadata": {},
     "output_type": "execute_result"
    }
   ],
   "source": [
    "generate_r(9, 0.01, 0.02)"
   ]
  },
  {
   "cell_type": "code",
   "execution_count": 202,
   "metadata": {},
   "outputs": [],
   "source": [
    "components = [1,5,10,15,20,25,30,35,40,45,50,55,60,65,70]\n",
    "v2 = [[0.015, 0.086, 0.0655, 0.014, 0.01, 0.1, 0.025, 0.16, 0.018], #0-1\n",
    "      [0.029, 0.072, 0.043, 0.0699, 0.023, 0.024, 0.071, 0.024, 0.025], #1-5\n",
    "      [0.01, 0.09, 0.025, 0.068, 0.01, 0.05, 0.08, 0.1, 0.025], #2-10\n",
    "      [0.0432, 0.08798, 0.0145, 0.0625, 0.0412, 0.066, 0.077, 0.025, 0.040], #3-15\n",
    "      [0.012022218992665637,\n",
    " 0.01489475007016238,\n",
    " 0.011930171386344104,\n",
    " 0.010391943091747615,\n",
    " 0.013890086419421568,\n",
    " 0.011290831560481376,\n",
    " 0.014538144824352109,\n",
    " 0.014905381619860427,\n",
    " 0.013854921580617066], #4-20\n",
    "      [0.012561054913532424,\n",
    " 0.014644324133868727,\n",
    " 0.013562335599403555,\n",
    " 0.01264146345001226,\n",
    " 0.0105824732572699,\n",
    " 0.011767659040871728,\n",
    " 0.014557037897807481,\n",
    " 0.010067285965368091,\n",
    " 0.016566888886402446], #5-25\n",
    "      [0.026910007161966558,\n",
    " 0.02661168074322872,\n",
    " 0.02046937648523805,\n",
    " 0.01347415790578165,\n",
    " 0.015148539571042332,\n",
    " 0.01563025016926,\n",
    " 0.019992328342485426,\n",
    " 0.025089594747003778,\n",
    " 0.013139004237401322], #6-30\n",
    "      [0.013, 0.065, 0.077, 0.068, 0.027, 0.029, 0.023, 0.055, 0.074], #7-35\n",
    "      [0.029, 0.072, 0.043, 0.0699, 0.023, 0.024, 0.071, 0.024, 0.025], #8-40\n",
    "      [0.029, 0.072, 0.043, 0.0699, 0.023, 0.024, 0.071, 0.024, 0.025], #9-45\n",
    "      [0.029, 0.072, 0.043, 0.0699, 0.023, 0.024, 0.071, 0.024, 0.025], #10-50\n",
    "      [0.013, 0.065, 0.077, 0.068, 0.027, 0.029, 0.023, 0.055, 0.074], #11-55\n",
    "      [0.0432, 0.08798, 0.0145, 0.0625, 0.0412, 0.066, 0.077, 0.025, 0.040], #12-60\n",
    "      [0.013, 0.065, 0.077, 0.068, 0.027, 0.029, 0.023, 0.055, 0.074], #13-65\n",
    "      [0.0432, 0.08798, 0.0145, 0.0625, 0.0412, 0.066, 0.077, 0.025, 0.040]] #14-70"
   ]
  },
  {
   "cell_type": "code",
   "execution_count": 203,
   "metadata": {},
   "outputs": [
    {
     "name": "stdout",
     "output_type": "stream",
     "text": [
      "Finalizado\n"
     ]
    }
   ],
   "source": [
    "K = 6\n",
    "x1, x2 = ExperimentoSimples(X, Y, K, components[5], v2)\n",
    "acc_yale[K] = [x1, x2]\n",
    "acc_yale = np.array(acc_yale)"
   ]
  },
  {
   "cell_type": "code",
   "execution_count": 204,
   "metadata": {},
   "outputs": [
    {
     "data": {
      "image/png": "[encoded data removed]",
      "text/plain": [
       "<Figure size 432x288 with 1 Axes>"
      ]
     },
     "metadata": {},
     "output_type": "display_data"
    }
   ],
   "source": [
    "ImprimirResultados(acc_yale, \"Yale Faces\")"
   ]
  },
  {
   "cell_type": "code",
   "execution_count": 237,
   "metadata": {},
   "outputs": [
    {
     "name": "stdout",
     "output_type": "stream",
     "text": [
      "---Yale---\n"
     ]
    },
    {
     "data": {
      "application/vnd.jupyter.widget-view+json": {
       "model_id": "b3f4688e86be4c358af4b04e481be14e",
       "version_major": 2,
       "version_minor": 0
      },
      "text/plain": [
       "HBox(children=(IntProgress(value=0, description='Progresso ', max=15), HTML(value='')))"
      ]
     },
     "metadata": {},
     "output_type": "display_data"
    },
    {
     "data": {
      "application/vnd.jupyter.widget-view+json": {
       "model_id": "ba9757c81062406694e5214d0e3e3689",
       "version_major": 2,
       "version_minor": 0
      },
      "text/plain": [
       "HBox(children=(IntProgress(value=0, description='Nº c:1', max=10), HTML(value='')))"
      ]
     },
     "metadata": {},
     "output_type": "display_data"
    },
    {
     "data": {
      "application/vnd.jupyter.widget-view+json": {
       "model_id": "83a6e0bf965d4fd79d632a50220cb7c8",
       "version_major": 2,
       "version_minor": 0
      },
      "text/plain": [
       "HBox(children=(IntProgress(value=0, description='Nº c:5', max=10), HTML(value='')))"
      ]
     },
     "metadata": {},
     "output_type": "display_data"
    },
    {
     "data": {
      "application/vnd.jupyter.widget-view+json": {
       "model_id": "ff148980e238413bb1fc9b87a9b83863",
       "version_major": 2,
       "version_minor": 0
      },
      "text/plain": [
       "HBox(children=(IntProgress(value=0, description='Nº c:10', max=10), HTML(value='')))"
      ]
     },
     "metadata": {},
     "output_type": "display_data"
    },
    {
     "data": {
      "application/vnd.jupyter.widget-view+json": {
       "model_id": "4be9bb1fd3ca461a87a83445472164f7",
       "version_major": 2,
       "version_minor": 0
      },
      "text/plain": [
       "HBox(children=(IntProgress(value=0, description='Nº c:15', max=10), HTML(value='')))"
      ]
     },
     "metadata": {},
     "output_type": "display_data"
    },
    {
     "data": {
      "application/vnd.jupyter.widget-view+json": {
       "model_id": "ae2ff4487e0a4f2aa8a4d40fdbebcaaa",
       "version_major": 2,
       "version_minor": 0
      },
      "text/plain": [
       "HBox(children=(IntProgress(value=0, description='Nº c:20', max=10), HTML(value='')))"
      ]
     },
     "metadata": {},
     "output_type": "display_data"
    },
    {
     "data": {
      "application/vnd.jupyter.widget-view+json": {
       "model_id": "993b72fc193a4fc8b4e1f1ff8962e8b8",
       "version_major": 2,
       "version_minor": 0
      },
      "text/plain": [
       "HBox(children=(IntProgress(value=0, description='Nº c:25', max=10), HTML(value='')))"
      ]
     },
     "metadata": {},
     "output_type": "display_data"
    },
    {
     "data": {
      "application/vnd.jupyter.widget-view+json": {
       "model_id": "3c235850ead742eca1962bef054e3a28",
       "version_major": 2,
       "version_minor": 0
      },
      "text/plain": [
       "HBox(children=(IntProgress(value=0, description='Nº c:30', max=10), HTML(value='')))"
      ]
     },
     "metadata": {},
     "output_type": "display_data"
    },
    {
     "data": {
      "application/vnd.jupyter.widget-view+json": {
       "model_id": "12c5eab6567f484c896962d550691963",
       "version_major": 2,
       "version_minor": 0
      },
      "text/plain": [
       "HBox(children=(IntProgress(value=0, description='Nº c:35', max=10), HTML(value='')))"
      ]
     },
     "metadata": {},
     "output_type": "display_data"
    },
    {
     "data": {
      "application/vnd.jupyter.widget-view+json": {
       "model_id": "7d8818d1d3c44a8cb178b6f050922af0",
       "version_major": 2,
       "version_minor": 0
      },
      "text/plain": [
       "HBox(children=(IntProgress(value=0, description='Nº c:40', max=10), HTML(value='')))"
      ]
     },
     "metadata": {},
     "output_type": "display_data"
    },
    {
     "data": {
      "application/vnd.jupyter.widget-view+json": {
       "model_id": "b851b71060854c96ada91caa9049d0a8",
       "version_major": 2,
       "version_minor": 0
      },
      "text/plain": [
       "HBox(children=(IntProgress(value=0, description='Nº c:45', max=10), HTML(value='')))"
      ]
     },
     "metadata": {},
     "output_type": "display_data"
    },
    {
     "data": {
      "application/vnd.jupyter.widget-view+json": {
       "model_id": "6775e6bc1daf4c31956177843e6a5aaf",
       "version_major": 2,
       "version_minor": 0
      },
      "text/plain": [
       "HBox(children=(IntProgress(value=0, description='Nº c:50', max=10), HTML(value='')))"
      ]
     },
     "metadata": {},
     "output_type": "display_data"
    },
    {
     "data": {
      "application/vnd.jupyter.widget-view+json": {
       "model_id": "b8ac092cad03476ebdaa8bab1198d3e1",
       "version_major": 2,
       "version_minor": 0
      },
      "text/plain": [
       "HBox(children=(IntProgress(value=0, description='Nº c:55', max=10), HTML(value='')))"
      ]
     },
     "metadata": {},
     "output_type": "display_data"
    },
    {
     "data": {
      "application/vnd.jupyter.widget-view+json": {
       "model_id": "7552401bfa28430f8f67f775f8aa4627",
       "version_major": 2,
       "version_minor": 0
      },
      "text/plain": [
       "HBox(children=(IntProgress(value=0, description='Nº c:60', max=10), HTML(value='')))"
      ]
     },
     "metadata": {},
     "output_type": "display_data"
    },
    {
     "data": {
      "application/vnd.jupyter.widget-view+json": {
       "model_id": "faad043f241d4e64896fa7d627ea5337",
       "version_major": 2,
       "version_minor": 0
      },
      "text/plain": [
       "HBox(children=(IntProgress(value=0, description='Nº c:65', max=10), HTML(value='')))"
      ]
     },
     "metadata": {},
     "output_type": "display_data"
    },
    {
     "data": {
      "application/vnd.jupyter.widget-view+json": {
       "model_id": "691a39f7c784481e98bfa153999d72cf",
       "version_major": 2,
       "version_minor": 0
      },
      "text/plain": [
       "HBox(children=(IntProgress(value=0, description='Nº c:70', max=10), HTML(value='')))"
      ]
     },
     "metadata": {},
     "output_type": "display_data"
    },
    {
     "name": "stdout",
     "output_type": "stream",
     "text": [
      "\n"
     ]
    }
   ],
   "source": [
    "#calculando as acuracias (70 x 4)\n",
    "print(\"---Yale---\")\n",
    "#acc_yale, std_yale = Experimento(X, Y, experimento_folder+'\\\\genetico\\\\genetico_yale.txt')\n",
    "acc_yale, std_yale = Experimento(X, Y, v2)"
   ]
  },
  {
   "cell_type": "code",
   "execution_count": 238,
   "metadata": {},
   "outputs": [
    {
     "data": {
      "image/png": "[encoded data removed]",
      "text/plain": [
       "<Figure size 432x288 with 1 Axes>"
      ]
     },
     "metadata": {},
     "output_type": "display_data"
    }
   ],
   "source": [
    "ImprimirResultados(acc_yale, \"Yale Faces\")"
   ]
  },
  {
   "cell_type": "code",
   "execution_count": 239,
   "metadata": {},
   "outputs": [],
   "source": [
    "#salvando as acuracias dos classificadores\n",
    "acc = acc_yale\n",
    "n_experimento = 3\n",
    "experimento_folder = 'Experimento'+str(n_experimento)\n",
    "folder = 'acc'\n",
    "dataset = 'yale'\n",
    "\n",
    "filename1 = experimento_folder+'\\\\'+folder+'\\\\acc_'+dataset+'_eigenfaces.csv'\n",
    "filename2 = experimento_folder+'\\\\'+folder+'\\\\acc_'+dataset+'_eigenfaces_proposed.csv'\n",
    "np.savetxt(filename1, acc[:,0], delimiter=',')\n",
    "np.savetxt(filename2, acc[:,1], delimiter=',')"
   ]
  },
  {
   "cell_type": "code",
   "execution_count": null,
   "metadata": {},
   "outputs": [],
   "source": []
  }
 ],
 "metadata": {
  "kernelspec": {
   "display_name": "Python 3",
   "language": "python",
   "name": "python3"
  },
  "language_info": {
   "codemirror_mode": {
    "name": "ipython",
    "version": 3
   },
   "file_extension": ".py",
   "mimetype": "text/x-python",
   "name": "python",
   "nbconvert_exporter": "python",
   "pygments_lexer": "ipython3",
   "version": "3.6.5"
  }
 },
 "nbformat": 4,
 "nbformat_minor": 2
}
